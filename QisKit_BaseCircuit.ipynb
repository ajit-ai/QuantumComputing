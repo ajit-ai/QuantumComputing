{
  "cells": [
    {
      "cell_type": "markdown",
      "metadata": {
        "id": "view-in-github",
        "colab_type": "text"
      },
      "source": [
        "<a href=\"https://colab.research.google.com/github/ajit-ai/QuantumComputing/blob/main/QisKit_BaseCircuit.ipynb\" target=\"_parent\"><img src=\"https://colab.research.google.com/assets/colab-badge.svg\" alt=\"Open In Colab\"/></a>"
      ]
    },
    {
      "cell_type": "code",
      "execution_count": 21,
      "metadata": {
        "colab": {
          "base_uri": "https://localhost:8080/"
        },
        "id": "Igm98JmV5j8F",
        "outputId": "6f3ce397-4ba4-4327-ce82-08a8b0ab77d7"
      },
      "outputs": [
        {
          "output_type": "stream",
          "name": "stdout",
          "text": [
            "Requirement already satisfied: qiskit in /usr/local/lib/python3.11/dist-packages (1.3.2)\n",
            "Requirement already satisfied: rustworkx>=0.15.0 in /usr/local/lib/python3.11/dist-packages (from qiskit) (0.16.0)\n",
            "Requirement already satisfied: numpy<3,>=1.17 in /usr/local/lib/python3.11/dist-packages (from qiskit) (1.26.4)\n",
            "Requirement already satisfied: scipy>=1.5 in /usr/local/lib/python3.11/dist-packages (from qiskit) (1.13.1)\n",
            "Requirement already satisfied: sympy>=1.3 in /usr/local/lib/python3.11/dist-packages (from qiskit) (1.13.1)\n",
            "Requirement already satisfied: dill>=0.3 in /usr/local/lib/python3.11/dist-packages (from qiskit) (0.3.9)\n",
            "Requirement already satisfied: python-dateutil>=2.8.0 in /usr/local/lib/python3.11/dist-packages (from qiskit) (2.8.2)\n",
            "Requirement already satisfied: stevedore>=3.0.0 in /usr/local/lib/python3.11/dist-packages (from qiskit) (5.4.0)\n",
            "Requirement already satisfied: typing-extensions in /usr/local/lib/python3.11/dist-packages (from qiskit) (4.12.2)\n",
            "Requirement already satisfied: symengine<0.14,>=0.11 in /usr/local/lib/python3.11/dist-packages (from qiskit) (0.13.0)\n",
            "Requirement already satisfied: six>=1.5 in /usr/local/lib/python3.11/dist-packages (from python-dateutil>=2.8.0->qiskit) (1.17.0)\n",
            "Requirement already satisfied: pbr>=2.0.0 in /usr/local/lib/python3.11/dist-packages (from stevedore>=3.0.0->qiskit) (6.1.1)\n",
            "Requirement already satisfied: mpmath<1.4,>=1.1.0 in /usr/local/lib/python3.11/dist-packages (from sympy>=1.3->qiskit) (1.3.0)\n",
            "Requirement already satisfied: setuptools in /usr/local/lib/python3.11/dist-packages (from pbr>=2.0.0->stevedore>=3.0.0->qiskit) (75.1.0)\n",
            "Requirement already satisfied: qiskit in /usr/local/lib/python3.11/dist-packages (1.3.2)\n",
            "Requirement already satisfied: qiskit-aer in /usr/local/lib/python3.11/dist-packages (0.16.1)\n",
            "Requirement already satisfied: rustworkx>=0.15.0 in /usr/local/lib/python3.11/dist-packages (from qiskit) (0.16.0)\n",
            "Requirement already satisfied: numpy<3,>=1.17 in /usr/local/lib/python3.11/dist-packages (from qiskit) (1.26.4)\n",
            "Requirement already satisfied: scipy>=1.5 in /usr/local/lib/python3.11/dist-packages (from qiskit) (1.13.1)\n",
            "Requirement already satisfied: sympy>=1.3 in /usr/local/lib/python3.11/dist-packages (from qiskit) (1.13.1)\n",
            "Requirement already satisfied: dill>=0.3 in /usr/local/lib/python3.11/dist-packages (from qiskit) (0.3.9)\n",
            "Requirement already satisfied: python-dateutil>=2.8.0 in /usr/local/lib/python3.11/dist-packages (from qiskit) (2.8.2)\n",
            "Requirement already satisfied: stevedore>=3.0.0 in /usr/local/lib/python3.11/dist-packages (from qiskit) (5.4.0)\n",
            "Requirement already satisfied: typing-extensions in /usr/local/lib/python3.11/dist-packages (from qiskit) (4.12.2)\n",
            "Requirement already satisfied: symengine<0.14,>=0.11 in /usr/local/lib/python3.11/dist-packages (from qiskit) (0.13.0)\n",
            "Requirement already satisfied: psutil>=5 in /usr/local/lib/python3.11/dist-packages (from qiskit-aer) (5.9.5)\n",
            "Requirement already satisfied: six>=1.5 in /usr/local/lib/python3.11/dist-packages (from python-dateutil>=2.8.0->qiskit) (1.17.0)\n",
            "Requirement already satisfied: pbr>=2.0.0 in /usr/local/lib/python3.11/dist-packages (from stevedore>=3.0.0->qiskit) (6.1.1)\n",
            "Requirement already satisfied: mpmath<1.4,>=1.1.0 in /usr/local/lib/python3.11/dist-packages (from sympy>=1.3->qiskit) (1.3.0)\n",
            "Requirement already satisfied: setuptools in /usr/local/lib/python3.11/dist-packages (from pbr>=2.0.0->stevedore>=3.0.0->qiskit) (75.1.0)\n",
            "Requirement already satisfied: qiskit-aer-gpu in /usr/local/lib/python3.11/dist-packages (0.15.1)\n",
            "Requirement already satisfied: qiskit>=1.1.0 in /usr/local/lib/python3.11/dist-packages (from qiskit-aer-gpu) (1.3.2)\n",
            "Requirement already satisfied: numpy>=1.16.3 in /usr/local/lib/python3.11/dist-packages (from qiskit-aer-gpu) (1.26.4)\n",
            "Requirement already satisfied: scipy>=1.0 in /usr/local/lib/python3.11/dist-packages (from qiskit-aer-gpu) (1.13.1)\n",
            "Requirement already satisfied: psutil>=5 in /usr/local/lib/python3.11/dist-packages (from qiskit-aer-gpu) (5.9.5)\n",
            "Requirement already satisfied: nvidia-cuda-runtime-cu12>=12.1.105 in /usr/local/lib/python3.11/dist-packages (from qiskit-aer-gpu) (12.5.82)\n",
            "Requirement already satisfied: nvidia-nvjitlink-cu12 in /usr/local/lib/python3.11/dist-packages (from qiskit-aer-gpu) (12.5.82)\n",
            "Requirement already satisfied: nvidia-cublas-cu12>=12.1.3.1 in /usr/local/lib/python3.11/dist-packages (from qiskit-aer-gpu) (12.5.3.2)\n",
            "Requirement already satisfied: nvidia-cusolver-cu12>=11.4.5.107 in /usr/local/lib/python3.11/dist-packages (from qiskit-aer-gpu) (11.6.3.83)\n",
            "Requirement already satisfied: nvidia-cusparse-cu12>=12.1.0.106 in /usr/local/lib/python3.11/dist-packages (from qiskit-aer-gpu) (12.5.1.3)\n",
            "Requirement already satisfied: cuquantum-cu12>=23.3.0 in /usr/local/lib/python3.11/dist-packages (from qiskit-aer-gpu) (24.11.0)\n",
            "Requirement already satisfied: custatevec-cu12==1.7.0 in /usr/local/lib/python3.11/dist-packages (from cuquantum-cu12>=23.3.0->qiskit-aer-gpu) (1.7.0)\n",
            "Requirement already satisfied: cutensornet-cu12==2.6.0 in /usr/local/lib/python3.11/dist-packages (from cuquantum-cu12>=23.3.0->qiskit-aer-gpu) (2.6.0)\n",
            "Requirement already satisfied: cudensitymat-cu12==0.0.5 in /usr/local/lib/python3.11/dist-packages (from cuquantum-cu12>=23.3.0->qiskit-aer-gpu) (0.0.5)\n",
            "Requirement already satisfied: cutensor-cu12<3,>=2.0.2 in /usr/local/lib/python3.11/dist-packages (from cudensitymat-cu12==0.0.5->cuquantum-cu12>=23.3.0->qiskit-aer-gpu) (2.0.2)\n",
            "Requirement already satisfied: rustworkx>=0.15.0 in /usr/local/lib/python3.11/dist-packages (from qiskit>=1.1.0->qiskit-aer-gpu) (0.16.0)\n",
            "Requirement already satisfied: sympy>=1.3 in /usr/local/lib/python3.11/dist-packages (from qiskit>=1.1.0->qiskit-aer-gpu) (1.13.1)\n",
            "Requirement already satisfied: dill>=0.3 in /usr/local/lib/python3.11/dist-packages (from qiskit>=1.1.0->qiskit-aer-gpu) (0.3.9)\n",
            "Requirement already satisfied: python-dateutil>=2.8.0 in /usr/local/lib/python3.11/dist-packages (from qiskit>=1.1.0->qiskit-aer-gpu) (2.8.2)\n",
            "Requirement already satisfied: stevedore>=3.0.0 in /usr/local/lib/python3.11/dist-packages (from qiskit>=1.1.0->qiskit-aer-gpu) (5.4.0)\n",
            "Requirement already satisfied: typing-extensions in /usr/local/lib/python3.11/dist-packages (from qiskit>=1.1.0->qiskit-aer-gpu) (4.12.2)\n",
            "Requirement already satisfied: symengine<0.14,>=0.11 in /usr/local/lib/python3.11/dist-packages (from qiskit>=1.1.0->qiskit-aer-gpu) (0.13.0)\n",
            "Requirement already satisfied: six>=1.5 in /usr/local/lib/python3.11/dist-packages (from python-dateutil>=2.8.0->qiskit>=1.1.0->qiskit-aer-gpu) (1.17.0)\n",
            "Requirement already satisfied: pbr>=2.0.0 in /usr/local/lib/python3.11/dist-packages (from stevedore>=3.0.0->qiskit>=1.1.0->qiskit-aer-gpu) (6.1.1)\n",
            "Requirement already satisfied: mpmath<1.4,>=1.1.0 in /usr/local/lib/python3.11/dist-packages (from sympy>=1.3->qiskit>=1.1.0->qiskit-aer-gpu) (1.3.0)\n",
            "Requirement already satisfied: setuptools in /usr/local/lib/python3.11/dist-packages (from pbr>=2.0.0->stevedore>=3.0.0->qiskit>=1.1.0->qiskit-aer-gpu) (75.1.0)\n",
            "Requirement already satisfied: qiskit-aer-gpu-cu11 in /usr/local/lib/python3.11/dist-packages (0.16.1)\n",
            "Requirement already satisfied: qiskit>=1.1.0 in /usr/local/lib/python3.11/dist-packages (from qiskit-aer-gpu-cu11) (1.3.2)\n",
            "Requirement already satisfied: numpy>=1.16.3 in /usr/local/lib/python3.11/dist-packages (from qiskit-aer-gpu-cu11) (1.26.4)\n",
            "Requirement already satisfied: scipy>=1.0 in /usr/local/lib/python3.11/dist-packages (from qiskit-aer-gpu-cu11) (1.13.1)\n",
            "Requirement already satisfied: psutil>=5 in /usr/local/lib/python3.11/dist-packages (from qiskit-aer-gpu-cu11) (5.9.5)\n",
            "Requirement already satisfied: nvidia-cuda-runtime-cu11>=11.8.89 in /usr/local/lib/python3.11/dist-packages (from qiskit-aer-gpu-cu11) (11.8.89)\n",
            "Requirement already satisfied: nvidia-cublas-cu11>=11.11.3.6 in /usr/local/lib/python3.11/dist-packages (from qiskit-aer-gpu-cu11) (11.11.3.6)\n",
            "Requirement already satisfied: nvidia-cusolver-cu11>=11.4.1.48 in /usr/local/lib/python3.11/dist-packages (from qiskit-aer-gpu-cu11) (11.4.1.48)\n",
            "Requirement already satisfied: nvidia-cusparse-cu11>=11.7.5.86 in /usr/local/lib/python3.11/dist-packages (from qiskit-aer-gpu-cu11) (11.7.5.86)\n",
            "Requirement already satisfied: cuquantum-cu11<24.11.0,>=23.3.0 in /usr/local/lib/python3.11/dist-packages (from qiskit-aer-gpu-cu11) (24.8.0)\n",
            "Requirement already satisfied: custatevec-cu11==1.6.0.post1 in /usr/local/lib/python3.11/dist-packages (from cuquantum-cu11<24.11.0,>=23.3.0->qiskit-aer-gpu-cu11) (1.6.0.post1)\n",
            "Requirement already satisfied: cutensornet-cu11==2.5.0 in /usr/local/lib/python3.11/dist-packages (from cuquantum-cu11<24.11.0,>=23.3.0->qiskit-aer-gpu-cu11) (2.5.0)\n",
            "Requirement already satisfied: cutensor-cu11<3,>=2.0.1 in /usr/local/lib/python3.11/dist-packages (from cutensornet-cu11==2.5.0->cuquantum-cu11<24.11.0,>=23.3.0->qiskit-aer-gpu-cu11) (2.0.2)\n",
            "Requirement already satisfied: rustworkx>=0.15.0 in /usr/local/lib/python3.11/dist-packages (from qiskit>=1.1.0->qiskit-aer-gpu-cu11) (0.16.0)\n",
            "Requirement already satisfied: sympy>=1.3 in /usr/local/lib/python3.11/dist-packages (from qiskit>=1.1.0->qiskit-aer-gpu-cu11) (1.13.1)\n",
            "Requirement already satisfied: dill>=0.3 in /usr/local/lib/python3.11/dist-packages (from qiskit>=1.1.0->qiskit-aer-gpu-cu11) (0.3.9)\n",
            "Requirement already satisfied: python-dateutil>=2.8.0 in /usr/local/lib/python3.11/dist-packages (from qiskit>=1.1.0->qiskit-aer-gpu-cu11) (2.8.2)\n",
            "Requirement already satisfied: stevedore>=3.0.0 in /usr/local/lib/python3.11/dist-packages (from qiskit>=1.1.0->qiskit-aer-gpu-cu11) (5.4.0)\n",
            "Requirement already satisfied: typing-extensions in /usr/local/lib/python3.11/dist-packages (from qiskit>=1.1.0->qiskit-aer-gpu-cu11) (4.12.2)\n",
            "Requirement already satisfied: symengine<0.14,>=0.11 in /usr/local/lib/python3.11/dist-packages (from qiskit>=1.1.0->qiskit-aer-gpu-cu11) (0.13.0)\n",
            "Requirement already satisfied: six>=1.5 in /usr/local/lib/python3.11/dist-packages (from python-dateutil>=2.8.0->qiskit>=1.1.0->qiskit-aer-gpu-cu11) (1.17.0)\n",
            "Requirement already satisfied: pbr>=2.0.0 in /usr/local/lib/python3.11/dist-packages (from stevedore>=3.0.0->qiskit>=1.1.0->qiskit-aer-gpu-cu11) (6.1.1)\n",
            "Requirement already satisfied: mpmath<1.4,>=1.1.0 in /usr/local/lib/python3.11/dist-packages (from sympy>=1.3->qiskit>=1.1.0->qiskit-aer-gpu-cu11) (1.3.0)\n",
            "Requirement already satisfied: setuptools in /usr/local/lib/python3.11/dist-packages (from pbr>=2.0.0->stevedore>=3.0.0->qiskit>=1.1.0->qiskit-aer-gpu-cu11) (75.1.0)\n",
            "\u001b[31mERROR: You must give at least one requirement to install (see \"pip help install\")\u001b[0m\u001b[31m\n",
            "\u001b[0mRequirement already satisfied: qiskit-aer in /usr/local/lib/python3.11/dist-packages (0.16.1)\n",
            "Requirement already satisfied: qiskit>=1.1.0 in /usr/local/lib/python3.11/dist-packages (from qiskit-aer) (1.3.2)\n",
            "Requirement already satisfied: numpy>=1.16.3 in /usr/local/lib/python3.11/dist-packages (from qiskit-aer) (1.26.4)\n",
            "Requirement already satisfied: scipy>=1.0 in /usr/local/lib/python3.11/dist-packages (from qiskit-aer) (1.13.1)\n",
            "Requirement already satisfied: psutil>=5 in /usr/local/lib/python3.11/dist-packages (from qiskit-aer) (5.9.5)\n",
            "Requirement already satisfied: rustworkx>=0.15.0 in /usr/local/lib/python3.11/dist-packages (from qiskit>=1.1.0->qiskit-aer) (0.16.0)\n",
            "Requirement already satisfied: sympy>=1.3 in /usr/local/lib/python3.11/dist-packages (from qiskit>=1.1.0->qiskit-aer) (1.13.1)\n",
            "Requirement already satisfied: dill>=0.3 in /usr/local/lib/python3.11/dist-packages (from qiskit>=1.1.0->qiskit-aer) (0.3.9)\n",
            "Requirement already satisfied: python-dateutil>=2.8.0 in /usr/local/lib/python3.11/dist-packages (from qiskit>=1.1.0->qiskit-aer) (2.8.2)\n",
            "Requirement already satisfied: stevedore>=3.0.0 in /usr/local/lib/python3.11/dist-packages (from qiskit>=1.1.0->qiskit-aer) (5.4.0)\n",
            "Requirement already satisfied: typing-extensions in /usr/local/lib/python3.11/dist-packages (from qiskit>=1.1.0->qiskit-aer) (4.12.2)\n",
            "Requirement already satisfied: symengine<0.14,>=0.11 in /usr/local/lib/python3.11/dist-packages (from qiskit>=1.1.0->qiskit-aer) (0.13.0)\n",
            "Requirement already satisfied: six>=1.5 in /usr/local/lib/python3.11/dist-packages (from python-dateutil>=2.8.0->qiskit>=1.1.0->qiskit-aer) (1.17.0)\n",
            "Requirement already satisfied: pbr>=2.0.0 in /usr/local/lib/python3.11/dist-packages (from stevedore>=3.0.0->qiskit>=1.1.0->qiskit-aer) (6.1.1)\n",
            "Requirement already satisfied: mpmath<1.4,>=1.1.0 in /usr/local/lib/python3.11/dist-packages (from sympy>=1.3->qiskit>=1.1.0->qiskit-aer) (1.3.0)\n",
            "Requirement already satisfied: setuptools in /usr/local/lib/python3.11/dist-packages (from pbr>=2.0.0->stevedore>=3.0.0->qiskit>=1.1.0->qiskit-aer) (75.1.0)\n"
          ]
        }
      ],
      "source": [
        "!pip install qiskit\n",
        "!pip install qiskit qiskit-aer\n",
        "!pip install qiskit-aer-gpu\n",
        "!pip install qiskit-aer-gpu-cu11\n",
        "!pip install --upgrade\n",
        "!pip install qiskit-aer\n",
        "\n",
        "\n"
      ]
    },
    {
      "cell_type": "code",
      "source": [
        "import qiskit\n",
        "qiskit.__version__\n",
        "\n",
        "#{'qiskit-terra': '0.16.0',\n",
        "# 'qiskit-aer': '0.7.0',\n",
        "# 'qiskit-ignis': '0.5.0',\n",
        "# 'qiskit-ibmq-provider': '0.11.0',\n",
        "# 'qiskit-aqua': '0.8.0',\n",
        "# 'qiskit': '0.23.0'}"
      ],
      "metadata": {
        "colab": {
          "base_uri": "https://localhost:8080/",
          "height": 35
        },
        "id": "McoLkoqkw84D",
        "outputId": "076117d9-2f7f-4fb6-bb51-d907ed82c7c5"
      },
      "execution_count": 22,
      "outputs": [
        {
          "output_type": "execute_result",
          "data": {
            "text/plain": [
              "'1.3.2'"
            ],
            "application/vnd.google.colaboratory.intrinsic+json": {
              "type": "string"
            }
          },
          "metadata": {},
          "execution_count": 22
        }
      ]
    },
    {
      "cell_type": "code",
      "source": [
        "!pip install pylatexenc\n",
        "from qiskit import *\n",
        "circuit = QuantumCircuit(3, 3)\n",
        "circuit.x(0)\n",
        "circuit.barrier()\n",
        "%matplotlib inline\n",
        "circuit.draw(output='mpl')"
      ],
      "metadata": {
        "colab": {
          "base_uri": "https://localhost:8080/",
          "height": 531
        },
        "id": "b2MjLKsjzKU-",
        "outputId": "4dd60e38-3aee-4c8c-898c-20740c159e03"
      },
      "execution_count": 23,
      "outputs": [
        {
          "output_type": "stream",
          "name": "stdout",
          "text": [
            "Collecting pylatexenc\n",
            "  Downloading pylatexenc-2.10.tar.gz (162 kB)\n",
            "\u001b[?25l     \u001b[90m━━━━━━━━━━━━━━━━━━━━━━━━━━━━━━━━━━━━━━━━\u001b[0m \u001b[32m0.0/162.6 kB\u001b[0m \u001b[31m?\u001b[0m eta \u001b[36m-:--:--\u001b[0m\r\u001b[2K     \u001b[91m━━━━━━━━━━━━━━━━━━━━━━━━━━━━━━━━━━━━━\u001b[0m\u001b[91m╸\u001b[0m\u001b[90m━━\u001b[0m \u001b[32m153.6/162.6 kB\u001b[0m \u001b[31m7.2 MB/s\u001b[0m eta \u001b[36m0:00:01\u001b[0m\r\u001b[2K     \u001b[90m━━━━━━━━━━━━━━━━━━━━━━━━━━━━━━━━━━━━━━━━\u001b[0m \u001b[32m162.6/162.6 kB\u001b[0m \u001b[31m4.1 MB/s\u001b[0m eta \u001b[36m0:00:00\u001b[0m\n",
            "\u001b[?25h  Preparing metadata (setup.py) ... \u001b[?25l\u001b[?25hdone\n",
            "Building wheels for collected packages: pylatexenc\n",
            "  Building wheel for pylatexenc (setup.py) ... \u001b[?25l\u001b[?25hdone\n",
            "  Created wheel for pylatexenc: filename=pylatexenc-2.10-py3-none-any.whl size=136816 sha256=c41c0a878f2e6d0bae157cee251cadf29361494a8f541a45af92d8df1fe41f15\n",
            "  Stored in directory: /root/.cache/pip/wheels/b1/7a/33/9fdd892f784ed4afda62b685ae3703adf4c91aa0f524c28f03\n",
            "Successfully built pylatexenc\n",
            "Installing collected packages: pylatexenc\n",
            "Successfully installed pylatexenc-2.10\n"
          ]
        },
        {
          "output_type": "execute_result",
          "data": {
            "text/plain": [
              "<Figure size 287.496x367.889 with 1 Axes>"
            ],
            "image/png": "[encoded data removed]"
          },
          "metadata": {},
          "execution_count": 23
        }
      ]
    },
    {
      "cell_type": "code",
      "source": [
        "circuit.h(1)\n",
        "circuit.cx(1,2)\n",
        "circuit.cx(0,1)\n",
        "circuit.h(0)\n",
        "circuit.draw(output='mpl')"
      ],
      "metadata": {
        "colab": {
          "base_uri": "https://localhost:8080/",
          "height": 320
        },
        "id": "ejpN9U6DzQHL",
        "outputId": "2b8eecb1-f54d-40fc-f78b-34dfa1bfa0b6"
      },
      "execution_count": 24,
      "outputs": [
        {
          "output_type": "execute_result",
          "data": {
            "text/plain": [
              "<Figure size 621.941x367.889 with 1 Axes>"
            ],
            "image/png": "[encoded data removed]"
          },
          "metadata": {},
          "execution_count": 24
        }
      ]
    },
    {
      "cell_type": "code",
      "source": [
        "circuit.h(2)\n",
        "circuit.cx(1,2)\n",
        "circuit.cx(0,1)\n",
        "circuit.h(0)\n",
        "circuit.draw(output='mpl')"
      ],
      "metadata": {
        "colab": {
          "base_uri": "https://localhost:8080/",
          "height": 320
        },
        "id": "vDiN-GnFGQxq",
        "outputId": "a8138d9a-759a-46fb-ba12-3162de264791"
      },
      "execution_count": 25,
      "outputs": [
        {
          "output_type": "execute_result",
          "data": {
            "text/plain": [
              "<Figure size 789.163x367.889 with 1 Axes>"
            ],
            "image/png": "[encoded data removed]"
          },
          "metadata": {},
          "execution_count": 25
        }
      ]
    },
    {
      "cell_type": "code",
      "source": [
        "circuit.h(1)\n",
        "circuit.cx(1,2)\n",
        "circuit.cx(0,1)\n",
        "circuit.h(0)\n",
        "circuit.draw(output='mpl')"
      ],
      "metadata": {
        "colab": {
          "base_uri": "https://localhost:8080/",
          "height": 295
        },
        "id": "Ubvo8Px8MeWT",
        "outputId": "6e2737de-5c2b-4765-806f-66163a9a80d2"
      },
      "execution_count": 26,
      "outputs": [
        {
          "output_type": "execute_result",
          "data": {
            "text/plain": [
              "<Figure size 1040x367.889 with 1 Axes>"
            ],
            "image/png": "[encoded data removed]"
          },
          "metadata": {},
          "execution_count": 26
        }
      ]
    },
    {
      "cell_type": "code",
      "source": [
        "circuit.barrier()\n",
        "circuit.measure([0,1],[0,1])\n",
        "circuit.draw(output='mpl')\n",
        "circuit.barrier()"
      ],
      "metadata": {
        "colab": {
          "base_uri": "https://localhost:8080/"
        },
        "id": "OsSzrwHXzZSs",
        "outputId": "ac306428-1802-4551-9b1e-04726851963e"
      },
      "execution_count": 27,
      "outputs": [
        {
          "output_type": "execute_result",
          "data": {
            "text/plain": [
              "CircuitInstruction(operation=Instruction(name='barrier', num_qubits=3, num_clbits=0, params=[]), qubits=(Qubit(QuantumRegister(3, 'q'), 0), Qubit(QuantumRegister(3, 'q'), 1), Qubit(QuantumRegister(3, 'q'), 2)), clbits=())"
            ]
          },
          "metadata": {},
          "execution_count": 27
        }
      ]
    },
    {
      "cell_type": "code",
      "source": [
        "circuit.barrier()\n",
        "circuit.measure([0,1],[0,1])\n",
        "circuit.draw(output='mpl')\n",
        "circuit.barrier()"
      ],
      "metadata": {
        "colab": {
          "base_uri": "https://localhost:8080/"
        },
        "id": "pNHwRDFdzg6j",
        "outputId": "772ebce6-c427-49bf-b32d-f9198d42b9e7"
      },
      "execution_count": 28,
      "outputs": [
        {
          "output_type": "execute_result",
          "data": {
            "text/plain": [
              "CircuitInstruction(operation=Instruction(name='barrier', num_qubits=3, num_clbits=0, params=[]), qubits=(Qubit(QuantumRegister(3, 'q'), 0), Qubit(QuantumRegister(3, 'q'), 1), Qubit(QuantumRegister(3, 'q'), 2)), clbits=())"
            ]
          },
          "metadata": {},
          "execution_count": 28
        }
      ]
    },
    {
      "cell_type": "code",
      "source": [
        "circuit.cx(1,2)\n",
        "circuit.cz(0,2)\n",
        "circuit.draw(output='mpl')"
      ],
      "metadata": {
        "colab": {
          "base_uri": "https://localhost:8080/",
          "height": 172
        },
        "id": "FrEXXA_PznHU",
        "outputId": "95e9d38b-07b1-4814-f68c-a8d3543ff656"
      },
      "execution_count": 29,
      "outputs": [
        {
          "output_type": "execute_result",
          "data": {
            "text/plain": [
              "<Figure size 1876.11x367.889 with 1 Axes>"
            ],
            "image/png": "[encoded data removed]"
          },
          "metadata": {},
          "execution_count": 29
        }
      ]
    },
    {
      "cell_type": "code",
      "source": [
        "circuit.cx(1,2)\n",
        "circuit.cz(0,2)\n",
        "circuit.draw(output='mpl')"
      ],
      "metadata": {
        "colab": {
          "base_uri": "https://localhost:8080/",
          "height": 160
        },
        "id": "B-qqiZgaz6qs",
        "outputId": "2aca7c62-ba20-4eb4-8c98-94c831d28081"
      },
      "execution_count": 30,
      "outputs": [
        {
          "output_type": "execute_result",
          "data": {
            "text/plain": [
              "<Figure size 2043.33x367.889 with 1 Axes>"
            ],
            "image/png": "[encoded data removed]"
          },
          "metadata": {},
          "execution_count": 30
        }
      ]
    },
    {
      "cell_type": "code",
      "source": [
        "!pip install qiskit_aer\n",
        "\n",
        "from qiskit import transpile\n",
        "from qiskit_aer import Aer\n",
        "# ... (rest of your code)\n",
        "\n",
        "# Avoid using 'Aer' as a variable name to prevent conflicts\n",
        "simulator = Aer.get_backend('qasm_simulator')\n",
        "# Use transpile and backend.run() instead of execute\n",
        "transpiled_circuit = transpile(circuit, simulator)\n",
        "result = simulator.run(transpiled_circuit, shots=1024).result()\n",
        "counts = result.get_counts()\n",
        "# Import plot_histogram from the correct module\n",
        "from qiskit.visualization import plot_histogram\n",
        "plot_histogram(counts)"
      ],
      "metadata": {
        "colab": {
          "base_uri": "https://localhost:8080/",
          "height": 744
        },
        "id": "2OEulhiA0CiU",
        "outputId": "88634649-57d8-4d61-cfd5-4e656d3c2690"
      },
      "execution_count": 31,
      "outputs": [
        {
          "output_type": "stream",
          "name": "stdout",
          "text": [
            "Requirement already satisfied: qiskit_aer in /usr/local/lib/python3.11/dist-packages (0.16.1)\n",
            "Requirement already satisfied: qiskit>=1.1.0 in /usr/local/lib/python3.11/dist-packages (from qiskit_aer) (1.3.2)\n",
            "Requirement already satisfied: numpy>=1.16.3 in /usr/local/lib/python3.11/dist-packages (from qiskit_aer) (1.26.4)\n",
            "Requirement already satisfied: scipy>=1.0 in /usr/local/lib/python3.11/dist-packages (from qiskit_aer) (1.13.1)\n",
            "Requirement already satisfied: psutil>=5 in /usr/local/lib/python3.11/dist-packages (from qiskit_aer) (5.9.5)\n",
            "Requirement already satisfied: rustworkx>=0.15.0 in /usr/local/lib/python3.11/dist-packages (from qiskit>=1.1.0->qiskit_aer) (0.16.0)\n",
            "Requirement already satisfied: sympy>=1.3 in /usr/local/lib/python3.11/dist-packages (from qiskit>=1.1.0->qiskit_aer) (1.13.1)\n",
            "Requirement already satisfied: dill>=0.3 in /usr/local/lib/python3.11/dist-packages (from qiskit>=1.1.0->qiskit_aer) (0.3.9)\n",
            "Requirement already satisfied: python-dateutil>=2.8.0 in /usr/local/lib/python3.11/dist-packages (from qiskit>=1.1.0->qiskit_aer) (2.8.2)\n",
            "Requirement already satisfied: stevedore>=3.0.0 in /usr/local/lib/python3.11/dist-packages (from qiskit>=1.1.0->qiskit_aer) (5.4.0)\n",
            "Requirement already satisfied: typing-extensions in /usr/local/lib/python3.11/dist-packages (from qiskit>=1.1.0->qiskit_aer) (4.12.2)\n",
            "Requirement already satisfied: symengine<0.14,>=0.11 in /usr/local/lib/python3.11/dist-packages (from qiskit>=1.1.0->qiskit_aer) (0.13.0)\n",
            "Requirement already satisfied: six>=1.5 in /usr/local/lib/python3.11/dist-packages (from python-dateutil>=2.8.0->qiskit>=1.1.0->qiskit_aer) (1.17.0)\n",
            "Requirement already satisfied: pbr>=2.0.0 in /usr/local/lib/python3.11/dist-packages (from stevedore>=3.0.0->qiskit>=1.1.0->qiskit_aer) (6.1.1)\n",
            "Requirement already satisfied: mpmath<1.4,>=1.1.0 in /usr/local/lib/python3.11/dist-packages (from sympy>=1.3->qiskit>=1.1.0->qiskit_aer) (1.3.0)\n",
            "Requirement already satisfied: setuptools in /usr/local/lib/python3.11/dist-packages (from pbr>=2.0.0->stevedore>=3.0.0->qiskit>=1.1.0->qiskit_aer) (75.1.0)\n"
          ]
        },
        {
          "output_type": "execute_result",
          "data": {
            "text/plain": [
              "<Figure size 640x480 with 1 Axes>"
            ],
            "image/png": "[encoded data removed]"
          },
          "metadata": {},
          "execution_count": 31
        }
      ]
    },
    {
      "cell_type": "code",
      "execution_count": 32,
      "metadata": {
        "id": "ERnPMnPI5j8J",
        "colab": {
          "base_uri": "https://localhost:8080/"
        },
        "outputId": "5ed5098a-12f1-450b-90e7-e3996147f52a"
      },
      "outputs": [
        {
          "output_type": "stream",
          "name": "stdout",
          "text": [
            "     ┌───┐     ┌─┐   \n",
            "q_0: ┤ H ├──■──┤M├───\n",
            "     └───┘┌─┴─┐└╥┘┌─┐\n",
            "q_1: ─────┤ X ├─╫─┤M├\n",
            "          └───┘ ║ └╥┘\n",
            "c: 2/═══════════╩══╩═\n",
            "                0  1 \n"
          ]
        }
      ],
      "source": [
        "from qiskit import QuantumCircuit\n",
        "\n",
        "# Create a circuit with 2 qubits and 2 classical bits\n",
        "qc = QuantumCircuit(2, 2)\n",
        "\n",
        "# Apply a Hadamard gate to the first qubit\n",
        "qc.h(0)\n",
        "\n",
        "# Apply a CNOT gate with the first qubit as control and the second as target\n",
        "qc.cx(0, 1)\n",
        "\n",
        "# Measure the qubits\n",
        "qc.measure([0, 1], [0, 1])\n",
        "\n",
        "print(qc.draw())  # Visualize the circuit"
      ]
    },
    {
      "cell_type": "code",
      "source": [
        "!pip install pylatexenc\n",
        "import matplotlib.pyplot as plt\n",
        "from qiskit import *\n",
        "circuit = QuantumCircuit(3, 3)\n",
        "circuit.x(0)\n",
        "circuit.barrier()\n",
        "%matplotlib inline\n",
        "circuit.draw(initial_state = True)\n",
        "circuit.draw(output='mpl') # Now this should work"
      ],
      "metadata": {
        "colab": {
          "base_uri": "https://localhost:8080/",
          "height": 337
        },
        "id": "vu0lxwY21zx5",
        "outputId": "ad7f1519-d57e-4f38-d424-742e5fb2e032"
      },
      "execution_count": 33,
      "outputs": [
        {
          "output_type": "stream",
          "name": "stdout",
          "text": [
            "Requirement already satisfied: pylatexenc in /usr/local/lib/python3.11/dist-packages (2.10)\n"
          ]
        },
        {
          "output_type": "execute_result",
          "data": {
            "text/plain": [
              "<Figure size 287.496x367.889 with 1 Axes>"
            ],
            "image/png": "[encoded data removed]"
          },
          "metadata": {},
          "execution_count": 33
        }
      ]
    },
    {
      "cell_type": "code",
      "source": [
        "from qiskit import *\n",
        "from pylatexenc import *\n",
        "\n",
        "qr = QuantumRegister(2)\n",
        "cr = ClassicalRegister(2)\n",
        "\n",
        "circuit = QuantumCircuit(qr, cr)\n",
        "\n",
        "%matplotlib inline\n",
        "\n",
        "circuit.draw(output='mpl')"
      ],
      "metadata": {
        "colab": {
          "base_uri": "https://localhost:8080/",
          "height": 255
        },
        "id": "vUr2VwM23L1d",
        "outputId": "a0ae96c7-e064-43d0-d024-57dea6c7a0f2"
      },
      "execution_count": 34,
      "outputs": [
        {
          "output_type": "execute_result",
          "data": {
            "text/plain": [
              "<Figure size 180.108x284.278 with 1 Axes>"
            ],
            "image/png": "[encoded data removed]"
          },
          "metadata": {},
          "execution_count": 34
        }
      ]
    },
    {
      "cell_type": "code",
      "source": [
        "!pip install qiskit-aer\n",
        "\n",
        "import qiskit as q\n",
        "from qiskit.visualization import plot_histogram, plot_bloch_multivector\n",
        "from matplotlib import style\n",
        "import math\n",
        "#style.use(\"dark_background\")\n",
        "\n",
        "from qiskit_aer import Aer # Import Aer from the correct module\n",
        "\n",
        "# Use qiskit_aer to get the backends\n",
        "qasm_sim = Aer.get_backend('qasm_simulator')\n",
        "statevec_sim = Aer.get_backend(\"statevector_simulator\")"
      ],
      "metadata": {
        "colab": {
          "base_uri": "https://localhost:8080/"
        },
        "id": "G6e_ilnJ6oFE",
        "outputId": "04f44608-bfe3-4e2b-f8e7-087ee1af1f0d"
      },
      "execution_count": 35,
      "outputs": [
        {
          "output_type": "stream",
          "name": "stdout",
          "text": [
            "Requirement already satisfied: qiskit-aer in /usr/local/lib/python3.11/dist-packages (0.16.1)\n",
            "Requirement already satisfied: qiskit>=1.1.0 in /usr/local/lib/python3.11/dist-packages (from qiskit-aer) (1.3.2)\n",
            "Requirement already satisfied: numpy>=1.16.3 in /usr/local/lib/python3.11/dist-packages (from qiskit-aer) (1.26.4)\n",
            "Requirement already satisfied: scipy>=1.0 in /usr/local/lib/python3.11/dist-packages (from qiskit-aer) (1.13.1)\n",
            "Requirement already satisfied: psutil>=5 in /usr/local/lib/python3.11/dist-packages (from qiskit-aer) (5.9.5)\n",
            "Requirement already satisfied: rustworkx>=0.15.0 in /usr/local/lib/python3.11/dist-packages (from qiskit>=1.1.0->qiskit-aer) (0.16.0)\n",
            "Requirement already satisfied: sympy>=1.3 in /usr/local/lib/python3.11/dist-packages (from qiskit>=1.1.0->qiskit-aer) (1.13.1)\n",
            "Requirement already satisfied: dill>=0.3 in /usr/local/lib/python3.11/dist-packages (from qiskit>=1.1.0->qiskit-aer) (0.3.9)\n",
            "Requirement already satisfied: python-dateutil>=2.8.0 in /usr/local/lib/python3.11/dist-packages (from qiskit>=1.1.0->qiskit-aer) (2.8.2)\n",
            "Requirement already satisfied: stevedore>=3.0.0 in /usr/local/lib/python3.11/dist-packages (from qiskit>=1.1.0->qiskit-aer) (5.4.0)\n",
            "Requirement already satisfied: typing-extensions in /usr/local/lib/python3.11/dist-packages (from qiskit>=1.1.0->qiskit-aer) (4.12.2)\n",
            "Requirement already satisfied: symengine<0.14,>=0.11 in /usr/local/lib/python3.11/dist-packages (from qiskit>=1.1.0->qiskit-aer) (0.13.0)\n",
            "Requirement already satisfied: six>=1.5 in /usr/local/lib/python3.11/dist-packages (from python-dateutil>=2.8.0->qiskit>=1.1.0->qiskit-aer) (1.17.0)\n",
            "Requirement already satisfied: pbr>=2.0.0 in /usr/local/lib/python3.11/dist-packages (from stevedore>=3.0.0->qiskit>=1.1.0->qiskit-aer) (6.1.1)\n",
            "Requirement already satisfied: mpmath<1.4,>=1.1.0 in /usr/local/lib/python3.11/dist-packages (from sympy>=1.3->qiskit>=1.1.0->qiskit-aer) (1.3.0)\n",
            "Requirement already satisfied: setuptools in /usr/local/lib/python3.11/dist-packages (from pbr>=2.0.0->stevedore>=3.0.0->qiskit>=1.1.0->qiskit-aer) (75.1.0)\n"
          ]
        }
      ]
    },
    {
      "cell_type": "code",
      "source": [
        "import numpy as np\n",
        "from qiskit import QuantumCircuit\n",
        "\n",
        "# Create a Quantum Circuit acting on a quantum register of three qubits\n",
        "circ = QuantumCircuit(3)\n",
        "\n",
        "# 1. A quantum circuit for preparing the quantum state |000> + i |111>\n",
        "qc_example = QuantumCircuit(3)\n",
        "qc_example.h(0)          # generate superpostion\n",
        "qc_example.p(np.pi/2,0)  # add quantum phase\n",
        "qc_example.cx(0,1)       # 0th-qubit-Controlled-NOT gate on 1st qubit\n",
        "qc_example.cx(0,2)       # 0th-qubit-Controlled-NOT gate on 2nd qubit"
      ],
      "metadata": {
        "colab": {
          "base_uri": "https://localhost:8080/"
        },
        "id": "Z8637pJ9s82a",
        "outputId": "d7820961-8a6c-4c68-9531-36285ede4b35"
      },
      "execution_count": 36,
      "outputs": [
        {
          "output_type": "execute_result",
          "data": {
            "text/plain": [
              "<qiskit.circuit.instructionset.InstructionSet at 0x7daf7c714550>"
            ]
          },
          "metadata": {},
          "execution_count": 36
        }
      ]
    },
    {
      "cell_type": "code",
      "source": [
        "# Set up six different observables.\n",
        "from qiskit.quantum_info import SparsePauliOp\n",
        "\n",
        "observables_labels = [\"IZ\", \"IX\", \"ZI\", \"XI\", \"ZZ\", \"XX\"]\n",
        "observables = [SparsePauliOp(label) for label in observables_labels]"
      ],
      "metadata": {
        "id": "_ffeQ2ljTOG7"
      },
      "execution_count": 37,
      "outputs": []
    },
    {
      "cell_type": "code",
      "source": [
        "!pip install qiskit\n",
        "\n",
        "from qiskit import QuantumCircuit\n",
        "\n",
        "# Create a 4-qubit circuit\n",
        "qc = QuantumCircuit(4)\n",
        "\n",
        "# Apply a Hadamard gate to the first qubit to create superposition\n",
        "qc.h(0)\n",
        "\n",
        "# Apply CNOT gates to entangle the qubits\n",
        "qc.cx(0, 1)\n",
        "qc.cx(1, 2)\n",
        "qc.cx(2, 3)\n",
        "\n",
        "# The circuit now represents the GHZ state: |0000> + |1111>\n",
        "\n",
        "# You can visualize the circuit:\n",
        "print(qc.draw())"
      ],
      "metadata": {
        "colab": {
          "base_uri": "https://localhost:8080/"
        },
        "id": "anzCCaeoXPtA",
        "outputId": "965016bc-da60-4893-a3d3-2be5443140bd"
      },
      "execution_count": 38,
      "outputs": [
        {
          "output_type": "stream",
          "name": "stdout",
          "text": [
            "Requirement already satisfied: qiskit in /usr/local/lib/python3.11/dist-packages (1.3.2)\n",
            "Requirement already satisfied: rustworkx>=0.15.0 in /usr/local/lib/python3.11/dist-packages (from qiskit) (0.16.0)\n",
            "Requirement already satisfied: numpy<3,>=1.17 in /usr/local/lib/python3.11/dist-packages (from qiskit) (1.26.4)\n",
            "Requirement already satisfied: scipy>=1.5 in /usr/local/lib/python3.11/dist-packages (from qiskit) (1.13.1)\n",
            "Requirement already satisfied: sympy>=1.3 in /usr/local/lib/python3.11/dist-packages (from qiskit) (1.13.1)\n",
            "Requirement already satisfied: dill>=0.3 in /usr/local/lib/python3.11/dist-packages (from qiskit) (0.3.9)\n",
            "Requirement already satisfied: python-dateutil>=2.8.0 in /usr/local/lib/python3.11/dist-packages (from qiskit) (2.8.2)\n",
            "Requirement already satisfied: stevedore>=3.0.0 in /usr/local/lib/python3.11/dist-packages (from qiskit) (5.4.0)\n",
            "Requirement already satisfied: typing-extensions in /usr/local/lib/python3.11/dist-packages (from qiskit) (4.12.2)\n",
            "Requirement already satisfied: symengine<0.14,>=0.11 in /usr/local/lib/python3.11/dist-packages (from qiskit) (0.13.0)\n",
            "Requirement already satisfied: six>=1.5 in /usr/local/lib/python3.11/dist-packages (from python-dateutil>=2.8.0->qiskit) (1.17.0)\n",
            "Requirement already satisfied: pbr>=2.0.0 in /usr/local/lib/python3.11/dist-packages (from stevedore>=3.0.0->qiskit) (6.1.1)\n",
            "Requirement already satisfied: mpmath<1.4,>=1.1.0 in /usr/local/lib/python3.11/dist-packages (from sympy>=1.3->qiskit) (1.3.0)\n",
            "Requirement already satisfied: setuptools in /usr/local/lib/python3.11/dist-packages (from pbr>=2.0.0->stevedore>=3.0.0->qiskit) (75.1.0)\n",
            "     ┌───┐               \n",
            "q_0: ┤ H ├──■────────────\n",
            "     └───┘┌─┴─┐          \n",
            "q_1: ─────┤ X ├──■───────\n",
            "          └───┘┌─┴─┐     \n",
            "q_2: ──────────┤ X ├──■──\n",
            "               └───┘┌─┴─┐\n",
            "q_3: ───────────────┤ X ├\n",
            "                    └───┘\n"
          ]
        }
      ]
    },
    {
      "cell_type": "code",
      "source": [
        "!pip install qiskit\n",
        "\n",
        "from qiskit import QuantumCircuit\n",
        "\n",
        "# Create a 2-qubit circuit\n",
        "qc = QuantumCircuit(2)\n",
        "\n",
        "# Apply Hadamard gates to both qubits\n",
        "qc.h(0)\n",
        "qc.h(1)\n",
        "\n",
        "# Create entanglement with a CNOT gate\n",
        "qc.cx(0, 1)\n",
        "\n",
        "# The circuit now represents a superposition of all 4 states:\n",
        "# |00> + |01> + |10> + |11> (with possible phase differences)\n",
        "\n",
        "# You can visualize the circuit:\n",
        "print(qc.draw())"
      ],
      "metadata": {
        "colab": {
          "base_uri": "https://localhost:8080/"
        },
        "id": "FcKDhU6SXsOK",
        "outputId": "0f97ef6e-14c2-4d2b-d3be-2850fb9179dc"
      },
      "execution_count": 39,
      "outputs": [
        {
          "output_type": "stream",
          "name": "stdout",
          "text": [
            "Requirement already satisfied: qiskit in /usr/local/lib/python3.11/dist-packages (1.3.2)\n",
            "Requirement already satisfied: rustworkx>=0.15.0 in /usr/local/lib/python3.11/dist-packages (from qiskit) (0.16.0)\n",
            "Requirement already satisfied: numpy<3,>=1.17 in /usr/local/lib/python3.11/dist-packages (from qiskit) (1.26.4)\n",
            "Requirement already satisfied: scipy>=1.5 in /usr/local/lib/python3.11/dist-packages (from qiskit) (1.13.1)\n",
            "Requirement already satisfied: sympy>=1.3 in /usr/local/lib/python3.11/dist-packages (from qiskit) (1.13.1)\n",
            "Requirement already satisfied: dill>=0.3 in /usr/local/lib/python3.11/dist-packages (from qiskit) (0.3.9)\n",
            "Requirement already satisfied: python-dateutil>=2.8.0 in /usr/local/lib/python3.11/dist-packages (from qiskit) (2.8.2)\n",
            "Requirement already satisfied: stevedore>=3.0.0 in /usr/local/lib/python3.11/dist-packages (from qiskit) (5.4.0)\n",
            "Requirement already satisfied: typing-extensions in /usr/local/lib/python3.11/dist-packages (from qiskit) (4.12.2)\n",
            "Requirement already satisfied: symengine<0.14,>=0.11 in /usr/local/lib/python3.11/dist-packages (from qiskit) (0.13.0)\n",
            "Requirement already satisfied: six>=1.5 in /usr/local/lib/python3.11/dist-packages (from python-dateutil>=2.8.0->qiskit) (1.17.0)\n",
            "Requirement already satisfied: pbr>=2.0.0 in /usr/local/lib/python3.11/dist-packages (from stevedore>=3.0.0->qiskit) (6.1.1)\n",
            "Requirement already satisfied: mpmath<1.4,>=1.1.0 in /usr/local/lib/python3.11/dist-packages (from sympy>=1.3->qiskit) (1.3.0)\n",
            "Requirement already satisfied: setuptools in /usr/local/lib/python3.11/dist-packages (from pbr>=2.0.0->stevedore>=3.0.0->qiskit) (75.1.0)\n",
            "     ┌───┐     \n",
            "q_0: ┤ H ├──■──\n",
            "     ├───┤┌─┴─┐\n",
            "q_1: ┤ H ├┤ X ├\n",
            "     └───┘└───┘\n"
          ]
        }
      ]
    },
    {
      "cell_type": "code",
      "source": [
        "!pip install qiskit\n",
        "!pip install qiskit-aer\n",
        "\n",
        "from qiskit import QuantumCircuit, QuantumRegister, ClassicalRegister\n",
        "from qiskit.primitives import Sampler # Import Sampler for execution\n",
        "from qiskit_aer import Aer # Import Aer from qiskit_a\n",
        "from qiskit import transpile\n",
        "\n",
        "\n",
        "\n",
        "\n",
        "# Create a quantum circuit with three qubits:\n",
        "# q0: The qubit to be teleported\n",
        "# q1: Alice's qubit (part of the entangled pair)\n",
        "# q2: Bob's qubit (part of the entangled pair)\n",
        "qr = QuantumRegister(3, name=\"q\")\n",
        "# Create two classical bits for measurement results:\n",
        "# cr0: Alice's measurement result\n",
        "# cr1: Bob's measurement result\n",
        "cr = ClassicalRegister(2, name=\"c\")\n",
        "circuit = QuantumCircuit(qr, cr)\n",
        "\n",
        "# Initialize the qubit to be teleported (q0) to a desired state\n",
        "# Here, we initialize it to the |1> state using an X gate\n",
        "circuit.x(qr[0])\n",
        "\n",
        "# Create an entangled pair (Bell state) between Alice's (q1) and Bob's (q2) qubits\n",
        "circuit.h(qr[1])\n",
        "circuit.cx(qr[1], qr[2])\n",
        "\n",
        "# Apply CNOT gate from q0 (teleported qubit) to q1 (Alice's qubit)\n",
        "circuit.cx(qr[0], qr[1])\n",
        "\n",
        "# Apply Hadamard gate to q0\n",
        "circuit.h(qr[0])\n",
        "\n",
        "# Measure q0 and q1 and store results in classical bits cr0 and cr1\n",
        "circuit.measure(qr[0], cr[0])\n",
        "circuit.measure(qr[1], cr[1])\n",
        "\n",
        "# Apply gates on Bob's qubit (q2) based on measurement results\n",
        "circuit.cx(qr[1], qr[2])\n",
        "circuit.cz(qr[0], qr[2])\n",
        "\n",
        "\n",
        "# *** Add a measurement for the third qubit (q2) to classical bit 2 if available ***\n",
        "# If you have more classical bits, add measurements for other qubits accordingly.\n",
        "# For example, if you have a third classical bit (cr[2]), you can add:\n",
        "# circuit.measure(qr[2], cr[2])\n",
        "\n",
        "\n",
        "# Simulate the circuit using qasm_simulator to handle measurements\n",
        "simulator = Aer.get_backend('qasm_simulator')\n",
        "# Transpile the circuit for the simulator\n",
        "transpiled_circuit = transpile(circuit, simulator)\n",
        "\n",
        "# Execute the transpiled circuit using simulator.run\n",
        "job = simulator.run(transpiled_circuit, shots=1024)\n",
        "result = job.result()\n",
        "\n",
        "# Get the counts from the result\n",
        "counts = result.get_counts(transpiled_circuit)\n",
        "\n",
        "\n",
        "# Print the results\n",
        "print(counts)"
      ],
      "metadata": {
        "colab": {
          "base_uri": "https://localhost:8080/"
        },
        "id": "i7g_lAFLaMWO",
        "outputId": "61a24efc-cf65-46e4-b56b-a0ee4916ca9f"
      },
      "execution_count": 40,
      "outputs": [
        {
          "output_type": "stream",
          "name": "stdout",
          "text": [
            "Requirement already satisfied: qiskit in /usr/local/lib/python3.11/dist-packages (1.3.2)\n",
            "Requirement already satisfied: rustworkx>=0.15.0 in /usr/local/lib/python3.11/dist-packages (from qiskit) (0.16.0)\n",
            "Requirement already satisfied: numpy<3,>=1.17 in /usr/local/lib/python3.11/dist-packages (from qiskit) (1.26.4)\n",
            "Requirement already satisfied: scipy>=1.5 in /usr/local/lib/python3.11/dist-packages (from qiskit) (1.13.1)\n",
            "Requirement already satisfied: sympy>=1.3 in /usr/local/lib/python3.11/dist-packages (from qiskit) (1.13.1)\n",
            "Requirement already satisfied: dill>=0.3 in /usr/local/lib/python3.11/dist-packages (from qiskit) (0.3.9)\n",
            "Requirement already satisfied: python-dateutil>=2.8.0 in /usr/local/lib/python3.11/dist-packages (from qiskit) (2.8.2)\n",
            "Requirement already satisfied: stevedore>=3.0.0 in /usr/local/lib/python3.11/dist-packages (from qiskit) (5.4.0)\n",
            "Requirement already satisfied: typing-extensions in /usr/local/lib/python3.11/dist-packages (from qiskit) (4.12.2)\n",
            "Requirement already satisfied: symengine<0.14,>=0.11 in /usr/local/lib/python3.11/dist-packages (from qiskit) (0.13.0)\n",
            "Requirement already satisfied: six>=1.5 in /usr/local/lib/python3.11/dist-packages (from python-dateutil>=2.8.0->qiskit) (1.17.0)\n",
            "Requirement already satisfied: pbr>=2.0.0 in /usr/local/lib/python3.11/dist-packages (from stevedore>=3.0.0->qiskit) (6.1.1)\n",
            "Requirement already satisfied: mpmath<1.4,>=1.1.0 in /usr/local/lib/python3.11/dist-packages (from sympy>=1.3->qiskit) (1.3.0)\n",
            "Requirement already satisfied: setuptools in /usr/local/lib/python3.11/dist-packages (from pbr>=2.0.0->stevedore>=3.0.0->qiskit) (75.1.0)\n",
            "Requirement already satisfied: qiskit-aer in /usr/local/lib/python3.11/dist-packages (0.16.1)\n",
            "Requirement already satisfied: qiskit>=1.1.0 in /usr/local/lib/python3.11/dist-packages (from qiskit-aer) (1.3.2)\n",
            "Requirement already satisfied: numpy>=1.16.3 in /usr/local/lib/python3.11/dist-packages (from qiskit-aer) (1.26.4)\n",
            "Requirement already satisfied: scipy>=1.0 in /usr/local/lib/python3.11/dist-packages (from qiskit-aer) (1.13.1)\n",
            "Requirement already satisfied: psutil>=5 in /usr/local/lib/python3.11/dist-packages (from qiskit-aer) (5.9.5)\n",
            "Requirement already satisfied: rustworkx>=0.15.0 in /usr/local/lib/python3.11/dist-packages (from qiskit>=1.1.0->qiskit-aer) (0.16.0)\n",
            "Requirement already satisfied: sympy>=1.3 in /usr/local/lib/python3.11/dist-packages (from qiskit>=1.1.0->qiskit-aer) (1.13.1)\n",
            "Requirement already satisfied: dill>=0.3 in /usr/local/lib/python3.11/dist-packages (from qiskit>=1.1.0->qiskit-aer) (0.3.9)\n",
            "Requirement already satisfied: python-dateutil>=2.8.0 in /usr/local/lib/python3.11/dist-packages (from qiskit>=1.1.0->qiskit-aer) (2.8.2)\n",
            "Requirement already satisfied: stevedore>=3.0.0 in /usr/local/lib/python3.11/dist-packages (from qiskit>=1.1.0->qiskit-aer) (5.4.0)\n",
            "Requirement already satisfied: typing-extensions in /usr/local/lib/python3.11/dist-packages (from qiskit>=1.1.0->qiskit-aer) (4.12.2)\n",
            "Requirement already satisfied: symengine<0.14,>=0.11 in /usr/local/lib/python3.11/dist-packages (from qiskit>=1.1.0->qiskit-aer) (0.13.0)\n",
            "Requirement already satisfied: six>=1.5 in /usr/local/lib/python3.11/dist-packages (from python-dateutil>=2.8.0->qiskit>=1.1.0->qiskit-aer) (1.17.0)\n",
            "Requirement already satisfied: pbr>=2.0.0 in /usr/local/lib/python3.11/dist-packages (from stevedore>=3.0.0->qiskit>=1.1.0->qiskit-aer) (6.1.1)\n",
            "Requirement already satisfied: mpmath<1.4,>=1.1.0 in /usr/local/lib/python3.11/dist-packages (from sympy>=1.3->qiskit>=1.1.0->qiskit-aer) (1.3.0)\n",
            "Requirement already satisfied: setuptools in /usr/local/lib/python3.11/dist-packages (from pbr>=2.0.0->stevedore>=3.0.0->qiskit>=1.1.0->qiskit-aer) (75.1.0)\n",
            "{'10': 254, '00': 246, '11': 261, '01': 263}\n"
          ]
        }
      ]
    },
    {
      "cell_type": "code",
      "source": [
        "!pip install qiskit\n",
        "\n",
        "from qiskit import QuantumCircuit, QuantumRegister, ClassicalRegister\n",
        "\n",
        "\n",
        "# Define the number of qubits for each nucleus\n",
        "num_qubits_nucleus1 = 2  # Example: Set to 2 qubits\n",
        "num_qubits_nucleus2 = 2  # Example: Set to 2 qubits\n",
        "\n",
        "# Define the number of classical bits for measurement\n",
        "num_classical_bits = 2  # Example: Set to 2 classical bits\n",
        "\n",
        "# Define quantum registers for nuclei\n",
        "nucleus1 = QuantumRegister(num_qubits_nucleus1, name=\"nucleus1\")\n",
        "nucleus2 = QuantumRegister(num_qubits_nucleus2, name=\"nucleus2\")\n",
        "\n",
        "# Define classical register for measurement\n",
        "cr = ClassicalRegister(num_classical_bits, name=\"cr\")\n",
        "\n",
        "# Create quantum circuit\n",
        "circuit = QuantumCircuit(nucleus1, nucleus2, cr)\n",
        "\n",
        "# Prepare nuclei in superposition\n",
        "# ... (Apply gates to create desired superposition states)\n",
        "\n",
        "# Entangle nuclei\n",
        "# ... (Apply entangling gates, e.g., CNOT)\n",
        "\n",
        "# Simulate fusion interaction\n",
        "# ... (Apply gates representing the fusion process)\n",
        "\n",
        "# Measure outcome\n",
        "circuit.measure(nucleus1, cr)  # Measure final state of nuclei\n",
        "\n",
        "# ... (Execute circuit and analyze results)"
      ],
      "metadata": {
        "colab": {
          "base_uri": "https://localhost:8080/"
        },
        "id": "d-bksZxqcdCb",
        "outputId": "575d67c9-871a-4fd1-d758-649db57cb046"
      },
      "execution_count": 41,
      "outputs": [
        {
          "output_type": "stream",
          "name": "stdout",
          "text": [
            "Requirement already satisfied: qiskit in /usr/local/lib/python3.11/dist-packages (1.3.2)\n",
            "Requirement already satisfied: rustworkx>=0.15.0 in /usr/local/lib/python3.11/dist-packages (from qiskit) (0.16.0)\n",
            "Requirement already satisfied: numpy<3,>=1.17 in /usr/local/lib/python3.11/dist-packages (from qiskit) (1.26.4)\n",
            "Requirement already satisfied: scipy>=1.5 in /usr/local/lib/python3.11/dist-packages (from qiskit) (1.13.1)\n",
            "Requirement already satisfied: sympy>=1.3 in /usr/local/lib/python3.11/dist-packages (from qiskit) (1.13.1)\n",
            "Requirement already satisfied: dill>=0.3 in /usr/local/lib/python3.11/dist-packages (from qiskit) (0.3.9)\n",
            "Requirement already satisfied: python-dateutil>=2.8.0 in /usr/local/lib/python3.11/dist-packages (from qiskit) (2.8.2)\n",
            "Requirement already satisfied: stevedore>=3.0.0 in /usr/local/lib/python3.11/dist-packages (from qiskit) (5.4.0)\n",
            "Requirement already satisfied: typing-extensions in /usr/local/lib/python3.11/dist-packages (from qiskit) (4.12.2)\n",
            "Requirement already satisfied: symengine<0.14,>=0.11 in /usr/local/lib/python3.11/dist-packages (from qiskit) (0.13.0)\n",
            "Requirement already satisfied: six>=1.5 in /usr/local/lib/python3.11/dist-packages (from python-dateutil>=2.8.0->qiskit) (1.17.0)\n",
            "Requirement already satisfied: pbr>=2.0.0 in /usr/local/lib/python3.11/dist-packages (from stevedore>=3.0.0->qiskit) (6.1.1)\n",
            "Requirement already satisfied: mpmath<1.4,>=1.1.0 in /usr/local/lib/python3.11/dist-packages (from sympy>=1.3->qiskit) (1.3.0)\n",
            "Requirement already satisfied: setuptools in /usr/local/lib/python3.11/dist-packages (from pbr>=2.0.0->stevedore>=3.0.0->qiskit) (75.1.0)\n"
          ]
        },
        {
          "output_type": "execute_result",
          "data": {
            "text/plain": [
              "<qiskit.circuit.instructionset.InstructionSet at 0x7daf701e3760>"
            ]
          },
          "metadata": {},
          "execution_count": 41
        }
      ]
    },
    {
      "cell_type": "code",
      "source": [
        "\n",
        "!pip uninstall qiskit -y  # Uninstall all existing qiskit packages\n",
        "!pip uninstall qiskit-terra -y\n",
        "!pip uninstall qiskit-aer -y\n",
        "!pip uninstall qiskit-ignis -y\n",
        "!pip uninstall qiskit-ibmq-provider -y\n",
        "!pip uninstall qiskit-aqua -y\n",
        "\n",
        "!pip install qiskit==0.40.0 qiskit-aer==0.11.2  # Install a specific compatible qiskit and qiskit-aer version, for example 0.40.0 and 0.11.2 respectively\n",
        "\n",
        "\n",
        "!pip install qiskit\n",
        "!pip install qiskit qiskit-aer\n",
        "!pip install qiskit_aer\n",
        "\n",
        "from qiskit import QuantumCircuit, Aer, transpile\n",
        "from qiskit.primitives import Sampler # Import Sampler for execution instead of execute\n",
        "import numpy as np\n",
        "\n",
        "\n",
        "\n",
        "def calculate_entanglement(num_qubits):\n",
        "    \"\"\"Calculates the entanglement entropy for a given number of qubits.\n",
        "\n",
        "    Args:\n",
        "        num_qubits: The number of qubits in the system.\n",
        "\n",
        "    Returns:\n",
        "        The entanglement entropy.\n",
        "    \"\"\"\n",
        "\n",
        "    # Create a quantum circuit with the specified number of qubits.\n",
        "    circuit = QuantumCircuit(num_qubits, num_qubits)\n",
        "\n",
        "    # Apply Hadamard gates to all qubits to create a superposition.\n",
        "    for i in range(num_qubits):\n",
        "        circuit.h(i)\n",
        "\n",
        "    # Apply CNOT gates to entangle the qubits.\n",
        "    for i in range(num_qubits - 1):\n",
        "        circuit.cx(i, i + 1)\n",
        "\n",
        "    # Measure all qubits.\n",
        "    circuit.measure(range(num_qubits), range(num_qubits))\n",
        "\n",
        "    # Execute the circuit on a simulator.\n",
        "    simulator = Aer.get_backend('qasm_simulator')\n",
        "\n",
        "    # Transpile the circuit for the simulator\n",
        "    transpiled_circuit = transpile(circuit, simulator)\n",
        "\n",
        "    # Execute the circuit using the Sampler primitive\n",
        "    sampler = Sampler()\n",
        "    job = sampler.run(transpiled_circuit, shots=1024) # Replace execute with Sampler\n",
        "\n",
        "    # Get the quasi-dists for probabilities\n",
        "    quasi_dists = job.result().quasi_dists\n",
        "\n",
        "\n",
        "    # Calculate the entanglement entropy.\n",
        "    entanglement_entropy = 0\n",
        "\n",
        "    # Iterate through the possible outcomes and their probabilities\n",
        "    for outcome_data in quasi_dists:\n",
        "        probability = outcome_data.get('1', 0) # probability of outcome '1'\n",
        "        if probability > 0:\n",
        "            entanglement_entropy -= probability * np.log2(probability)\n",
        "\n",
        "\n",
        "    return entanglement_entropy\n",
        "\n",
        "# Example usage\n",
        "num_qubits = 3  # Example: Set a finite number of qubits here\n",
        "entanglement = calculate_entanglement(num_qubits)\n",
        "print(f\"Entanglement entropy for {num_qubits} qubits: {entanglement}\")"
      ],
      "metadata": {
        "colab": {
          "base_uri": "https://localhost:8080/"
        },
        "id": "-62WzpFexnS1",
        "outputId": "5bd4710e-9f73-41dd-aedf-62458bd08d7b"
      },
      "execution_count": 1,
      "outputs": [
        {
          "output_type": "stream",
          "name": "stdout",
          "text": [
            "Found existing installation: qiskit 0.40.0\n",
            "Uninstalling qiskit-0.40.0:\n",
            "  Successfully uninstalled qiskit-0.40.0\n",
            "Found existing installation: qiskit-terra 0.23.0\n",
            "Uninstalling qiskit-terra-0.23.0:\n",
            "  Successfully uninstalled qiskit-terra-0.23.0\n",
            "Found existing installation: qiskit-aer 0.11.2\n",
            "Uninstalling qiskit-aer-0.11.2:\n",
            "  Successfully uninstalled qiskit-aer-0.11.2\n",
            "\u001b[33mWARNING: Skipping qiskit-ignis as it is not installed.\u001b[0m\u001b[33m\n",
            "\u001b[0mFound existing installation: qiskit-ibmq-provider 0.19.2\n",
            "Uninstalling qiskit-ibmq-provider-0.19.2:\n",
            "  Successfully uninstalled qiskit-ibmq-provider-0.19.2\n",
            "\u001b[33mWARNING: Skipping qiskit-aqua as it is not installed.\u001b[0m\u001b[33m\n",
            "\u001b[0mCollecting qiskit==0.40.0\n",
            "  Using cached qiskit-0.40.0-py3-none-any.whl\n",
            "Collecting qiskit-aer==0.11.2\n",
            "  Using cached qiskit_aer-0.11.2-cp311-cp311-manylinux_2_17_x86_64.manylinux2014_x86_64.whl.metadata (6.2 kB)\n",
            "Collecting qiskit-terra==0.23.0 (from qiskit==0.40.0)\n",
            "  Using cached qiskit_terra-0.23.0-cp311-cp311-manylinux_2_17_x86_64.manylinux2014_x86_64.whl.metadata (9.6 kB)\n",
            "Collecting qiskit-ibmq-provider==0.19.2 (from qiskit==0.40.0)\n",
            "  Using cached qiskit_ibmq_provider-0.19.2-py3-none-any.whl.metadata (11 kB)\n",
            "Requirement already satisfied: numpy>=1.16.3 in /usr/local/lib/python3.11/dist-packages (from qiskit-aer==0.11.2) (1.26.4)\n",
            "Requirement already satisfied: scipy>=1.0 in /usr/local/lib/python3.11/dist-packages (from qiskit-aer==0.11.2) (1.13.1)\n",
            "Requirement already satisfied: requests>=2.19 in /usr/local/lib/python3.11/dist-packages (from qiskit-ibmq-provider==0.19.2->qiskit==0.40.0) (2.32.3)\n",
            "Requirement already satisfied: requests-ntlm>=1.1.0 in /usr/local/lib/python3.11/dist-packages (from qiskit-ibmq-provider==0.19.2->qiskit==0.40.0) (1.3.0)\n",
            "Requirement already satisfied: urllib3>=1.21.1 in /usr/local/lib/python3.11/dist-packages (from qiskit-ibmq-provider==0.19.2->qiskit==0.40.0) (2.3.0)\n",
            "Requirement already satisfied: python-dateutil>=2.8.0 in /usr/local/lib/python3.11/dist-packages (from qiskit-ibmq-provider==0.19.2->qiskit==0.40.0) (2.8.2)\n",
            "Requirement already satisfied: websocket-client>=1.0.1 in /usr/local/lib/python3.11/dist-packages (from qiskit-ibmq-provider==0.19.2->qiskit==0.40.0) (1.8.0)\n",
            "Requirement already satisfied: websockets>=10.0 in /usr/local/lib/python3.11/dist-packages (from qiskit-ibmq-provider==0.19.2->qiskit==0.40.0) (14.2)\n",
            "Requirement already satisfied: rustworkx>=0.12.0 in /usr/local/lib/python3.11/dist-packages (from qiskit-terra==0.23.0->qiskit==0.40.0) (0.16.0)\n",
            "Requirement already satisfied: ply>=3.10 in /usr/local/lib/python3.11/dist-packages (from qiskit-terra==0.23.0->qiskit==0.40.0) (3.11)\n",
            "Requirement already satisfied: psutil>=5 in /usr/local/lib/python3.11/dist-packages (from qiskit-terra==0.23.0->qiskit==0.40.0) (5.9.5)\n",
            "Requirement already satisfied: sympy>=1.3 in /usr/local/lib/python3.11/dist-packages (from qiskit-terra==0.23.0->qiskit==0.40.0) (1.13.1)\n",
            "Requirement already satisfied: dill>=0.3 in /usr/local/lib/python3.11/dist-packages (from qiskit-terra==0.23.0->qiskit==0.40.0) (0.3.9)\n",
            "Requirement already satisfied: stevedore>=3.0.0 in /usr/local/lib/python3.11/dist-packages (from qiskit-terra==0.23.0->qiskit==0.40.0) (5.4.0)\n",
            "Requirement already satisfied: symengine>=0.9 in /usr/local/lib/python3.11/dist-packages (from qiskit-terra==0.23.0->qiskit==0.40.0) (0.13.0)\n",
            "Requirement already satisfied: six>=1.5 in /usr/local/lib/python3.11/dist-packages (from python-dateutil>=2.8.0->qiskit-ibmq-provider==0.19.2->qiskit==0.40.0) (1.17.0)\n",
            "Requirement already satisfied: charset-normalizer<4,>=2 in /usr/local/lib/python3.11/dist-packages (from requests>=2.19->qiskit-ibmq-provider==0.19.2->qiskit==0.40.0) (3.4.1)\n",
            "Requirement already satisfied: idna<4,>=2.5 in /usr/local/lib/python3.11/dist-packages (from requests>=2.19->qiskit-ibmq-provider==0.19.2->qiskit==0.40.0) (3.10)\n",
            "Requirement already satisfied: certifi>=2017.4.17 in /usr/local/lib/python3.11/dist-packages (from requests>=2.19->qiskit-ibmq-provider==0.19.2->qiskit==0.40.0) (2025.1.31)\n",
            "Requirement already satisfied: cryptography>=1.3 in /usr/local/lib/python3.11/dist-packages (from requests-ntlm>=1.1.0->qiskit-ibmq-provider==0.19.2->qiskit==0.40.0) (43.0.3)\n",
            "Requirement already satisfied: pyspnego>=0.4.0 in /usr/local/lib/python3.11/dist-packages (from requests-ntlm>=1.1.0->qiskit-ibmq-provider==0.19.2->qiskit==0.40.0) (0.11.2)\n",
            "Requirement already satisfied: pbr>=2.0.0 in /usr/local/lib/python3.11/dist-packages (from stevedore>=3.0.0->qiskit-terra==0.23.0->qiskit==0.40.0) (6.1.1)\n",
            "Requirement already satisfied: mpmath<1.4,>=1.1.0 in /usr/local/lib/python3.11/dist-packages (from sympy>=1.3->qiskit-terra==0.23.0->qiskit==0.40.0) (1.3.0)\n",
            "Requirement already satisfied: cffi>=1.12 in /usr/local/lib/python3.11/dist-packages (from cryptography>=1.3->requests-ntlm>=1.1.0->qiskit-ibmq-provider==0.19.2->qiskit==0.40.0) (1.17.1)\n",
            "Requirement already satisfied: setuptools in /usr/local/lib/python3.11/dist-packages (from pbr>=2.0.0->stevedore>=3.0.0->qiskit-terra==0.23.0->qiskit==0.40.0) (75.1.0)\n",
            "Requirement already satisfied: pycparser in /usr/local/lib/python3.11/dist-packages (from cffi>=1.12->cryptography>=1.3->requests-ntlm>=1.1.0->qiskit-ibmq-provider==0.19.2->qiskit==0.40.0) (2.22)\n",
            "Using cached qiskit_aer-0.11.2-cp311-cp311-manylinux_2_17_x86_64.manylinux2014_x86_64.whl (12.8 MB)\n",
            "Using cached qiskit_ibmq_provider-0.19.2-py3-none-any.whl (240 kB)\n",
            "Using cached qiskit_terra-0.23.0-cp311-cp311-manylinux_2_17_x86_64.manylinux2014_x86_64.whl (5.1 MB)\n",
            "Installing collected packages: qiskit-terra, qiskit-aer, qiskit-ibmq-provider, qiskit\n",
            "\u001b[31mERROR: pip's dependency resolver does not currently take into account all the packages that are installed. This behaviour is the source of the following dependency conflicts.\n",
            "qiskit-aer-gpu-cu11 0.16.1 requires qiskit>=1.1.0, but you have qiskit 0.40.0 which is incompatible.\n",
            "qiskit-aer-gpu 0.15.1 requires qiskit>=1.1.0, but you have qiskit 0.40.0 which is incompatible.\u001b[0m\u001b[31m\n",
            "\u001b[0mSuccessfully installed qiskit-0.40.0 qiskit-aer-0.11.2 qiskit-ibmq-provider-0.19.2 qiskit-terra-0.23.0\n",
            "Requirement already satisfied: qiskit in /usr/local/lib/python3.11/dist-packages (0.40.0)\n",
            "Requirement already satisfied: qiskit-terra==0.23.0 in /usr/local/lib/python3.11/dist-packages (from qiskit) (0.23.0)\n",
            "Requirement already satisfied: qiskit-aer==0.11.2 in /usr/local/lib/python3.11/dist-packages (from qiskit) (0.11.2)\n",
            "Requirement already satisfied: qiskit-ibmq-provider==0.19.2 in /usr/local/lib/python3.11/dist-packages (from qiskit) (0.19.2)\n",
            "Requirement already satisfied: numpy>=1.16.3 in /usr/local/lib/python3.11/dist-packages (from qiskit-aer==0.11.2->qiskit) (1.26.4)\n",
            "Requirement already satisfied: scipy>=1.0 in /usr/local/lib/python3.11/dist-packages (from qiskit-aer==0.11.2->qiskit) (1.13.1)\n",
            "Requirement already satisfied: requests>=2.19 in /usr/local/lib/python3.11/dist-packages (from qiskit-ibmq-provider==0.19.2->qiskit) (2.32.3)\n",
            "Requirement already satisfied: requests-ntlm>=1.1.0 in /usr/local/lib/python3.11/dist-packages (from qiskit-ibmq-provider==0.19.2->qiskit) (1.3.0)\n",
            "Requirement already satisfied: urllib3>=1.21.1 in /usr/local/lib/python3.11/dist-packages (from qiskit-ibmq-provider==0.19.2->qiskit) (2.3.0)\n",
            "Requirement already satisfied: python-dateutil>=2.8.0 in /usr/local/lib/python3.11/dist-packages (from qiskit-ibmq-provider==0.19.2->qiskit) (2.8.2)\n",
            "Requirement already satisfied: websocket-client>=1.0.1 in /usr/local/lib/python3.11/dist-packages (from qiskit-ibmq-provider==0.19.2->qiskit) (1.8.0)\n",
            "Requirement already satisfied: websockets>=10.0 in /usr/local/lib/python3.11/dist-packages (from qiskit-ibmq-provider==0.19.2->qiskit) (14.2)\n",
            "Requirement already satisfied: rustworkx>=0.12.0 in /usr/local/lib/python3.11/dist-packages (from qiskit-terra==0.23.0->qiskit) (0.16.0)\n",
            "Requirement already satisfied: ply>=3.10 in /usr/local/lib/python3.11/dist-packages (from qiskit-terra==0.23.0->qiskit) (3.11)\n",
            "Requirement already satisfied: psutil>=5 in /usr/local/lib/python3.11/dist-packages (from qiskit-terra==0.23.0->qiskit) (5.9.5)\n",
            "Requirement already satisfied: sympy>=1.3 in /usr/local/lib/python3.11/dist-packages (from qiskit-terra==0.23.0->qiskit) (1.13.1)\n",
            "Requirement already satisfied: dill>=0.3 in /usr/local/lib/python3.11/dist-packages (from qiskit-terra==0.23.0->qiskit) (0.3.9)\n",
            "Requirement already satisfied: stevedore>=3.0.0 in /usr/local/lib/python3.11/dist-packages (from qiskit-terra==0.23.0->qiskit) (5.4.0)\n",
            "Requirement already satisfied: symengine>=0.9 in /usr/local/lib/python3.11/dist-packages (from qiskit-terra==0.23.0->qiskit) (0.13.0)\n",
            "Requirement already satisfied: six>=1.5 in /usr/local/lib/python3.11/dist-packages (from python-dateutil>=2.8.0->qiskit-ibmq-provider==0.19.2->qiskit) (1.17.0)\n",
            "Requirement already satisfied: charset-normalizer<4,>=2 in /usr/local/lib/python3.11/dist-packages (from requests>=2.19->qiskit-ibmq-provider==0.19.2->qiskit) (3.4.1)\n",
            "Requirement already satisfied: idna<4,>=2.5 in /usr/local/lib/python3.11/dist-packages (from requests>=2.19->qiskit-ibmq-provider==0.19.2->qiskit) (3.10)\n",
            "Requirement already satisfied: certifi>=2017.4.17 in /usr/local/lib/python3.11/dist-packages (from requests>=2.19->qiskit-ibmq-provider==0.19.2->qiskit) (2025.1.31)\n",
            "Requirement already satisfied: cryptography>=1.3 in /usr/local/lib/python3.11/dist-packages (from requests-ntlm>=1.1.0->qiskit-ibmq-provider==0.19.2->qiskit) (43.0.3)\n",
            "Requirement already satisfied: pyspnego>=0.4.0 in /usr/local/lib/python3.11/dist-packages (from requests-ntlm>=1.1.0->qiskit-ibmq-provider==0.19.2->qiskit) (0.11.2)\n",
            "Requirement already satisfied: pbr>=2.0.0 in /usr/local/lib/python3.11/dist-packages (from stevedore>=3.0.0->qiskit-terra==0.23.0->qiskit) (6.1.1)\n",
            "Requirement already satisfied: mpmath<1.4,>=1.1.0 in /usr/local/lib/python3.11/dist-packages (from sympy>=1.3->qiskit-terra==0.23.0->qiskit) (1.3.0)\n",
            "Requirement already satisfied: cffi>=1.12 in /usr/local/lib/python3.11/dist-packages (from cryptography>=1.3->requests-ntlm>=1.1.0->qiskit-ibmq-provider==0.19.2->qiskit) (1.17.1)\n",
            "Requirement already satisfied: setuptools in /usr/local/lib/python3.11/dist-packages (from pbr>=2.0.0->stevedore>=3.0.0->qiskit-terra==0.23.0->qiskit) (75.1.0)\n",
            "Requirement already satisfied: pycparser in /usr/local/lib/python3.11/dist-packages (from cffi>=1.12->cryptography>=1.3->requests-ntlm>=1.1.0->qiskit-ibmq-provider==0.19.2->qiskit) (2.22)\n",
            "Requirement already satisfied: qiskit in /usr/local/lib/python3.11/dist-packages (0.40.0)\n",
            "Requirement already satisfied: qiskit-aer in /usr/local/lib/python3.11/dist-packages (0.11.2)\n",
            "Requirement already satisfied: qiskit-terra==0.23.0 in /usr/local/lib/python3.11/dist-packages (from qiskit) (0.23.0)\n",
            "Requirement already satisfied: qiskit-ibmq-provider==0.19.2 in /usr/local/lib/python3.11/dist-packages (from qiskit) (0.19.2)\n",
            "Requirement already satisfied: numpy>=1.16.3 in /usr/local/lib/python3.11/dist-packages (from qiskit-aer) (1.26.4)\n",
            "Requirement already satisfied: scipy>=1.0 in /usr/local/lib/python3.11/dist-packages (from qiskit-aer) (1.13.1)\n",
            "Requirement already satisfied: requests>=2.19 in /usr/local/lib/python3.11/dist-packages (from qiskit-ibmq-provider==0.19.2->qiskit) (2.32.3)\n",
            "Requirement already satisfied: requests-ntlm>=1.1.0 in /usr/local/lib/python3.11/dist-packages (from qiskit-ibmq-provider==0.19.2->qiskit) (1.3.0)\n",
            "Requirement already satisfied: urllib3>=1.21.1 in /usr/local/lib/python3.11/dist-packages (from qiskit-ibmq-provider==0.19.2->qiskit) (2.3.0)\n",
            "Requirement already satisfied: python-dateutil>=2.8.0 in /usr/local/lib/python3.11/dist-packages (from qiskit-ibmq-provider==0.19.2->qiskit) (2.8.2)\n",
            "Requirement already satisfied: websocket-client>=1.0.1 in /usr/local/lib/python3.11/dist-packages (from qiskit-ibmq-provider==0.19.2->qiskit) (1.8.0)\n",
            "Requirement already satisfied: websockets>=10.0 in /usr/local/lib/python3.11/dist-packages (from qiskit-ibmq-provider==0.19.2->qiskit) (14.2)\n",
            "Requirement already satisfied: rustworkx>=0.12.0 in /usr/local/lib/python3.11/dist-packages (from qiskit-terra==0.23.0->qiskit) (0.16.0)\n",
            "Requirement already satisfied: ply>=3.10 in /usr/local/lib/python3.11/dist-packages (from qiskit-terra==0.23.0->qiskit) (3.11)\n",
            "Requirement already satisfied: psutil>=5 in /usr/local/lib/python3.11/dist-packages (from qiskit-terra==0.23.0->qiskit) (5.9.5)\n",
            "Requirement already satisfied: sympy>=1.3 in /usr/local/lib/python3.11/dist-packages (from qiskit-terra==0.23.0->qiskit) (1.13.1)\n",
            "Requirement already satisfied: dill>=0.3 in /usr/local/lib/python3.11/dist-packages (from qiskit-terra==0.23.0->qiskit) (0.3.9)\n",
            "Requirement already satisfied: stevedore>=3.0.0 in /usr/local/lib/python3.11/dist-packages (from qiskit-terra==0.23.0->qiskit) (5.4.0)\n",
            "Requirement already satisfied: symengine>=0.9 in /usr/local/lib/python3.11/dist-packages (from qiskit-terra==0.23.0->qiskit) (0.13.0)\n",
            "Requirement already satisfied: six>=1.5 in /usr/local/lib/python3.11/dist-packages (from python-dateutil>=2.8.0->qiskit-ibmq-provider==0.19.2->qiskit) (1.17.0)\n",
            "Requirement already satisfied: charset-normalizer<4,>=2 in /usr/local/lib/python3.11/dist-packages (from requests>=2.19->qiskit-ibmq-provider==0.19.2->qiskit) (3.4.1)\n",
            "Requirement already satisfied: idna<4,>=2.5 in /usr/local/lib/python3.11/dist-packages (from requests>=2.19->qiskit-ibmq-provider==0.19.2->qiskit) (3.10)\n",
            "Requirement already satisfied: certifi>=2017.4.17 in /usr/local/lib/python3.11/dist-packages (from requests>=2.19->qiskit-ibmq-provider==0.19.2->qiskit) (2025.1.31)\n",
            "Requirement already satisfied: cryptography>=1.3 in /usr/local/lib/python3.11/dist-packages (from requests-ntlm>=1.1.0->qiskit-ibmq-provider==0.19.2->qiskit) (43.0.3)\n",
            "Requirement already satisfied: pyspnego>=0.4.0 in /usr/local/lib/python3.11/dist-packages (from requests-ntlm>=1.1.0->qiskit-ibmq-provider==0.19.2->qiskit) (0.11.2)\n",
            "Requirement already satisfied: pbr>=2.0.0 in /usr/local/lib/python3.11/dist-packages (from stevedore>=3.0.0->qiskit-terra==0.23.0->qiskit) (6.1.1)\n",
            "Requirement already satisfied: mpmath<1.4,>=1.1.0 in /usr/local/lib/python3.11/dist-packages (from sympy>=1.3->qiskit-terra==0.23.0->qiskit) (1.3.0)\n",
            "Requirement already satisfied: cffi>=1.12 in /usr/local/lib/python3.11/dist-packages (from cryptography>=1.3->requests-ntlm>=1.1.0->qiskit-ibmq-provider==0.19.2->qiskit) (1.17.1)\n",
            "Requirement already satisfied: setuptools in /usr/local/lib/python3.11/dist-packages (from pbr>=2.0.0->stevedore>=3.0.0->qiskit-terra==0.23.0->qiskit) (75.1.0)\n",
            "Requirement already satisfied: pycparser in /usr/local/lib/python3.11/dist-packages (from cffi>=1.12->cryptography>=1.3->requests-ntlm>=1.1.0->qiskit-ibmq-provider==0.19.2->qiskit) (2.22)\n",
            "Requirement already satisfied: qiskit_aer in /usr/local/lib/python3.11/dist-packages (0.11.2)\n",
            "Requirement already satisfied: numpy>=1.16.3 in /usr/local/lib/python3.11/dist-packages (from qiskit_aer) (1.26.4)\n",
            "Requirement already satisfied: qiskit-terra>=0.21.0 in /usr/local/lib/python3.11/dist-packages (from qiskit_aer) (0.23.0)\n",
            "Requirement already satisfied: scipy>=1.0 in /usr/local/lib/python3.11/dist-packages (from qiskit_aer) (1.13.1)\n",
            "Requirement already satisfied: rustworkx>=0.12.0 in /usr/local/lib/python3.11/dist-packages (from qiskit-terra>=0.21.0->qiskit_aer) (0.16.0)\n",
            "Requirement already satisfied: ply>=3.10 in /usr/local/lib/python3.11/dist-packages (from qiskit-terra>=0.21.0->qiskit_aer) (3.11)\n",
            "Requirement already satisfied: psutil>=5 in /usr/local/lib/python3.11/dist-packages (from qiskit-terra>=0.21.0->qiskit_aer) (5.9.5)\n",
            "Requirement already satisfied: sympy>=1.3 in /usr/local/lib/python3.11/dist-packages (from qiskit-terra>=0.21.0->qiskit_aer) (1.13.1)\n",
            "Requirement already satisfied: dill>=0.3 in /usr/local/lib/python3.11/dist-packages (from qiskit-terra>=0.21.0->qiskit_aer) (0.3.9)\n",
            "Requirement already satisfied: python-dateutil>=2.8.0 in /usr/local/lib/python3.11/dist-packages (from qiskit-terra>=0.21.0->qiskit_aer) (2.8.2)\n",
            "Requirement already satisfied: stevedore>=3.0.0 in /usr/local/lib/python3.11/dist-packages (from qiskit-terra>=0.21.0->qiskit_aer) (5.4.0)\n",
            "Requirement already satisfied: symengine>=0.9 in /usr/local/lib/python3.11/dist-packages (from qiskit-terra>=0.21.0->qiskit_aer) (0.13.0)\n",
            "Requirement already satisfied: six>=1.5 in /usr/local/lib/python3.11/dist-packages (from python-dateutil>=2.8.0->qiskit-terra>=0.21.0->qiskit_aer) (1.17.0)\n",
            "Requirement already satisfied: pbr>=2.0.0 in /usr/local/lib/python3.11/dist-packages (from stevedore>=3.0.0->qiskit-terra>=0.21.0->qiskit_aer) (6.1.1)\n",
            "Requirement already satisfied: mpmath<1.4,>=1.1.0 in /usr/local/lib/python3.11/dist-packages (from sympy>=1.3->qiskit-terra>=0.21.0->qiskit_aer) (1.3.0)\n",
            "Requirement already satisfied: setuptools in /usr/local/lib/python3.11/dist-packages (from pbr>=2.0.0->stevedore>=3.0.0->qiskit-terra>=0.21.0->qiskit_aer) (75.1.0)\n",
            "Entanglement entropy for 3 qubits: 0\n"
          ]
        }
      ]
    },
    {
      "cell_type": "code",
      "source": [
        "# prompt: write a quantum code for particle inter communication in hot and cold on dimension\n",
        "\n",
        "import numpy as np\n",
        "from qiskit import QuantumCircuit, QuantumRegister, ClassicalRegister\n",
        "from qiskit.primitives import Sampler\n",
        "from qiskit_aer import Aer\n",
        "from qiskit import transpile\n",
        "\n",
        "def simulate_particle_interaction(temperature_difference):\n",
        "    \"\"\"\n",
        "    Simulates particle interaction based on a temperature difference.\n",
        "\n",
        "    Args:\n",
        "        temperature_difference: A float representing the temperature difference between two systems.\n",
        "\n",
        "    Returns:\n",
        "        A QuantumCircuit representing the simulated interaction.\n",
        "    \"\"\"\n",
        "    # Define quantum and classical registers\n",
        "    qr = QuantumRegister(2, 'particles')  # Two qubits represent two particles\n",
        "    cr = ClassicalRegister(2, 'measurement')\n",
        "    qc = QuantumCircuit(qr, cr)\n",
        "\n",
        "    # Encode temperature difference (a classical value) into a quantum state\n",
        "    # (Use a suitable mapping to represent the temperature difference as a rotation angle)\n",
        "    angle = np.pi * (temperature_difference / 100.0)  # Adjust scaling as needed\n",
        "    qc.ry(angle, qr[0])\n",
        "\n",
        "\n",
        "    # Simulate interaction (e.g., entanglement and information exchange)\n",
        "    qc.cx(qr[0], qr[1]) # CNOT gate to entangle the qubits based on temperature\n",
        "\n",
        "    # Measure the qubits\n",
        "    qc.measure(qr, cr)\n",
        "\n",
        "    return qc\n",
        "\n",
        "# Example usage\n",
        "temperature_diff = 50.0  # Example temperature difference\n",
        "\n",
        "# Create and simulate the circuit\n",
        "circuit = simulate_particle_interaction(temperature_diff)\n",
        "\n",
        "# Use the Sampler primitive\n",
        "simulator = Aer.get_backend('qasm_simulator')\n",
        "transpiled_circuit = transpile(circuit, simulator)\n",
        "sampler = Sampler()\n",
        "job = sampler.run(transpiled_circuit, shots=1024)\n",
        "result = job.result()\n",
        "counts = result.quasi_dists[0]\n",
        "\n",
        "print(f\"Simulation results for temperature difference {temperature_diff}:\")\n",
        "counts\n"
      ],
      "metadata": {
        "colab": {
          "base_uri": "https://localhost:8080/"
        },
        "id": "i7EwV29FquM-",
        "outputId": "60fbbfae-6232-4a53-8b82-8948636c4107"
      },
      "execution_count": 2,
      "outputs": [
        {
          "output_type": "stream",
          "name": "stdout",
          "text": [
            "Simulation results for temperature difference 50.0:\n"
          ]
        },
        {
          "output_type": "execute_result",
          "data": {
            "text/plain": [
              "{0: 0.5087890625, 3: 0.4912109375}"
            ]
          },
          "metadata": {},
          "execution_count": 2
        }
      ]
    },
    {
      "cell_type": "code",
      "source": [
        "import numpy as np\n",
        "from qiskit import QuantumCircuit, QuantumRegister, ClassicalRegister\n",
        "from qiskit.primitives import Sampler\n",
        "from qiskit_aer import Aer\n",
        "from qiskit import transpile, assemble\n",
        "from qiskit.quantum_info import Statevector # Import Statevector for state creation\n",
        "\n",
        "def simulate_9d_teleportation(hot_state, cold_state):\n",
        "    \"\"\"Simulates quantum teleportation in a 9-dimensional space.\n",
        "\n",
        "    Args:\n",
        "        hot_state: A numpy array representing the initial state of the \"hot\" particle.\n",
        "        cold_state: A numpy array representing the initial state of the \"cold\" particle.\n",
        "\n",
        "    Returns:\n",
        "        A QuantumCircuit representing the teleportation process.\n",
        "    \"\"\"\n",
        "\n",
        "    # Note: Direct 9-dimensional quantum simulation is computationally expensive.\n",
        "    # This simulation uses a simplified model to illustrate the concept.\n",
        "\n",
        "    # Define quantum registers (adjust based on the complexity of your simulation)\n",
        "    qr_hot = QuantumRegister(3, 'hot')  # Represent 9-d with 3 qubits\n",
        "    qr_cold = QuantumRegister(3, 'cold')\n",
        "    cr = ClassicalRegister(6, 'measurement')\n",
        "    qc = QuantumCircuit(qr_hot, qr_cold, cr)\n",
        "\n",
        "    # Encode the states into the quantum registers using Statevector\n",
        "    # Create valid quantum states for initialization\n",
        "    hot_state_vec = Statevector.from_label(hot_state)  # Create a Statevector from the label\n",
        "    cold_state_vec = Statevector.from_label(cold_state)  # Create a Statevector from the label\n",
        "\n",
        "    qc.initialize(hot_state_vec, qr_hot)  # Initialize hot qubits with the statevector\n",
        "    qc.initialize(cold_state_vec, qr_cold)  # Initialize cold qubits with the statevector\n",
        "\n",
        "    # Create entanglement between the hot and cold particle qubits (simplified)\n",
        "    qc.h(qr_hot[0])\n",
        "    qc.cx(qr_hot[0], qr_cold[0])\n",
        "\n",
        "    # Simulate teleportation interaction\n",
        "    # (This would be a more complex quantum operation in a realistic model)\n",
        "    for i in range(3):\n",
        "        qc.cx(qr_hot[i], qr_cold[i])\n",
        "        qc.h(qr_hot[i])\n",
        "        qc.measure(qr_hot[i], cr[i])\n",
        "        qc.measure(qr_cold[i], cr[i + 3])\n",
        "\n",
        "    return qc\n",
        "\n",
        "# Example usage\n",
        "# Example: Use state labels like '001', '100', etc.\n",
        "hot_initial_state = '010'\n",
        "cold_initial_state = '100'\n",
        "\n",
        "circuit = simulate_9d_teleportation(hot_initial_state, cold_initial_state)\n",
        "\n",
        "simulator = Aer.get_backend('qasm_simulator')\n",
        "transpiled_circuit = transpile(circuit, simulator)\n",
        "sampler = Sampler()\n",
        "job = sampler.run(transpiled_circuit, shots=1024)\n",
        "result = job.result()\n",
        "counts = result.quasi_dists[0]\n",
        "counts"
      ],
      "metadata": {
        "colab": {
          "base_uri": "https://localhost:8080/"
        },
        "id": "JDu7rf5FssfR",
        "outputId": "321bdd52-e678-436e-8ca4-71ca7f9a3403"
      },
      "execution_count": 3,
      "outputs": [
        {
          "output_type": "execute_result",
          "data": {
            "text/plain": [
              "{48: 0.267578125, 50: 0.2578125, 52: 0.2373046875, 54: 0.2373046875}"
            ]
          },
          "metadata": {},
          "execution_count": 3
        }
      ]
    },
    {
      "cell_type": "code",
      "source": [
        "# prompt: write a quantum code for particle inter communication with hot and cold environment on space with 9th dimension in graphical representation\n",
        "\n",
        "import matplotlib.pyplot as plt\n",
        "\n",
        "def plot_9d_interaction(counts):\n",
        "    \"\"\"Plots the results of the 9D interaction simulation.\"\"\"\n",
        "\n",
        "    # Extract relevant data from counts (adapt this to your simulation's output)\n",
        "    # Example: Assume counts are in the format {'000000': 500, '111111': 524, ...}\n",
        "\n",
        "    hot_states = []\n",
        "    cold_states = []\n",
        "    probabilities = []\n",
        "\n",
        "    # Get the binary outcomes and probabilities\n",
        "    # Iterate through items to get both outcome and probability\n",
        "    for outcome, probability in counts.items():\n",
        "        outcome_str = bin(outcome)[2:].zfill(6) # Convert to binary and pad with zeros\n",
        "\n",
        "        hot_states.append(outcome_str[:3])  # Example, assuming first 3 bits represent hot particle\n",
        "        cold_states.append(outcome_str[3:])  # Example, assuming last 3 bits represent cold particle\n",
        "        probabilities.append(probability)\n",
        "\n",
        "    # Plotting code\n",
        "    plt.figure(figsize=(10, 6))\n",
        "    plt.bar(range(len(probabilities)), probabilities)\n",
        "\n",
        "    # Customize the plot as needed (labels, titles, etc.)\n",
        "    plt.xlabel(\"Interaction Outcome\")\n",
        "    plt.ylabel(\"Probability\")\n",
        "    plt.title(\"Simulated 9D Particle Interaction\")\n",
        "    plt.xticks(range(len(probabilities)), [f\"Hot: {hot}, Cold: {cold}\" for hot, cold in zip(hot_states, cold_states)], rotation=45, ha='right')\n",
        "    plt.tight_layout()\n",
        "    plt.show()\n",
        "\n",
        "\n",
        "# Example usage (assuming you have 'counts' from your simulation)\n",
        "plot_9d_interaction(counts)"
      ],
      "metadata": {
        "colab": {
          "base_uri": "https://localhost:8080/",
          "height": 465
        },
        "id": "oRL-ikc_s3UZ",
        "outputId": "78392ed0-926f-4f35-e756-76be619636af"
      },
      "execution_count": 4,
      "outputs": [
        {
          "output_type": "display_data",
          "data": {
            "text/plain": [
              "<Figure size 1000x600 with 1 Axes>"
            ],
            "image/png": "[encoded data removed]"
          },
          "metadata": {}
        }
      ]
    },
    {
      "cell_type": "code",
      "source": [
        "# prompt: generate a euler theorem in quantum compute\n",
        "\n",
        "from qiskit import QuantumCircuit, QuantumRegister, ClassicalRegister\n",
        "from qiskit.primitives import Sampler\n",
        "#from qiskit import Aer, transpile  # Remove this incorrect import\n",
        "from qiskit_aer import Aer # Import Aer from the correct module: qiskit_aer\n",
        "from qiskit import transpile # transpile is in qiskit, not qiskit_aer\n",
        "import numpy as np\n",
        "import matplotlib.pyplot as plt\n",
        "\n",
        "\n",
        "def simulate_euler_theorem_quantum(n, a):\n",
        "    \"\"\"Simulates Euler's totient theorem using quantum computation.\n",
        "\n",
        "    Args:\n",
        "        n: An integer representing the modulus.\n",
        "        a: An integer coprime to n.\n",
        "\n",
        "    Returns:\n",
        "        A QuantumCircuit representing the simulation.\n",
        "    \"\"\"\n",
        "    # Note: This is a simplified representation. A true quantum algorithm for this\n",
        "    # would likely require more advanced techniques.\n",
        "    num_qubits = 2  # Adjust based on the size of n\n",
        "    qr = QuantumRegister(num_qubits, 'qubits')\n",
        "    cr = ClassicalRegister(num_qubits, 'bits')\n",
        "    qc = QuantumCircuit(qr, cr)\n",
        "\n",
        "    # Encode n and a into the quantum state (this requires a suitable mapping)\n",
        "    # Placeholder for the encoding\n",
        "    # ... quantum encoding logic (complex, depends on the algorithm) ...\n",
        "    qc.h(0)\n",
        "    qc.cx(0, 1)\n",
        "\n",
        "    # Simulate the exponentiation modulo n using quantum gates\n",
        "    # Placeholder for exponentiation simulation\n",
        "    # ... quantum exponentiation (complex, depends on the algorithm) ...\n",
        "    for _ in range(a):\n",
        "        qc.cx(0,1)\n",
        "\n",
        "    # Measure the qubits\n",
        "    qc.measure(qr, cr)\n",
        "\n",
        "    return qc\n",
        "\n",
        "# Example usage\n",
        "n = 7  # Example modulus\n",
        "a = 3  # Example coprime integer\n",
        "\n",
        "\n",
        "circuit = simulate_euler_theorem_quantum(n, a)\n",
        "\n",
        "simulator = Aer.get_backend('qasm_simulator')\n",
        "transpiled_circuit = transpile(circuit, simulator)\n",
        "\n",
        "sampler = Sampler()\n",
        "job = sampler.run(transpiled_circuit, shots=1024)\n",
        "result = job.result()\n",
        "counts = result.quasi_dists[0]\n",
        "\n",
        "print(f\"Simulation result for n={n} and a={a}: {counts}\")\n",
        "\n",
        "def plot_euler_results(counts):\n",
        "    \"\"\"Plots the Euler theorem simulation results.\"\"\"\n",
        "\n",
        "    plt.figure(figsize=(8, 6))\n",
        "    plt.bar(counts.keys(), counts.values())\n",
        "    plt.xlabel(\"Measurement Outcomes\")\n",
        "    plt.ylabel(\"Probability\")\n",
        "    plt.title(f\"Euler Theorem Quantum Simulation (n={n}, a={a})\")\n",
        "    plt.show()\n",
        "\n",
        "plot_euler_results(counts)"
      ],
      "metadata": {
        "colab": {
          "base_uri": "https://localhost:8080/",
          "height": 581
        },
        "id": "dnfROCVMynTv",
        "outputId": "e299c1d2-2b1b-4c02-a3a4-ee21566b0e53"
      },
      "execution_count": 5,
      "outputs": [
        {
          "output_type": "stream",
          "name": "stdout",
          "text": [
            "Simulation result for n=7 and a=3: {0: 0.50390625, 1: 0.49609375}\n"
          ]
        },
        {
          "output_type": "display_data",
          "data": {
            "text/plain": [
              "<Figure size 800x600 with 1 Axes>"
            ],
            "image/png": "[encoded data removed]"
          },
          "metadata": {}
        }
      ]
    }
  ],
  "metadata": {
    "kernelspec": {
      "display_name": "Python 3",
      "language": "python",
      "name": "python3"
    },
    "language_info": {
      "codemirror_mode": {
        "name": "ipython",
        "version": 3
      },
      "file_extension": ".py",
      "mimetype": "text/x-python",
      "name": "python",
      "nbconvert_exporter": "python",
      "pygments_lexer": "ipython3",
      "version": "3.11.1"
    },
    "orig_nbformat": 4,
    "vscode": {
      "interpreter": {
        "hash": "c261aea317cc0286b3b3261fbba9abdec21eaa57589985bb7a274bf54d6cc0a7"
      }
    },
    "colab": {
      "provenance": [],
      "include_colab_link": true
    }
  },
  "nbformat": 4,
  "nbformat_minor": 0
}